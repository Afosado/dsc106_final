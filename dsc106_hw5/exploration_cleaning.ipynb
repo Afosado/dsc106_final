{
 "cells": [
  {
   "cell_type": "code",
   "execution_count": 528,
   "metadata": {},
   "outputs": [],
   "source": [
    "import pandas as pd\n",
    "import numpy as np\n",
    "import matplotlib.pyplot as plt\n",
    "from datetime import timedelta, datetime"
   ]
  },
  {
   "cell_type": "code",
   "execution_count": 110,
   "metadata": {},
   "outputs": [],
   "source": [
    "crypto = pd.read_csv('crypto-markets.csv')\n",
    "crypto['date'] = pd.to_datetime(crypto['date'])"
   ]
  },
  {
   "cell_type": "code",
   "execution_count": 111,
   "metadata": {},
   "outputs": [
    {
     "data": {
      "text/html": [
       "<div>\n",
       "<style scoped>\n",
       "    .dataframe tbody tr th:only-of-type {\n",
       "        vertical-align: middle;\n",
       "    }\n",
       "\n",
       "    .dataframe tbody tr th {\n",
       "        vertical-align: top;\n",
       "    }\n",
       "\n",
       "    .dataframe thead th {\n",
       "        text-align: right;\n",
       "    }\n",
       "</style>\n",
       "<table border=\"1\" class=\"dataframe\">\n",
       "  <thead>\n",
       "    <tr style=\"text-align: right;\">\n",
       "      <th></th>\n",
       "      <th>slug</th>\n",
       "      <th>symbol</th>\n",
       "      <th>name</th>\n",
       "      <th>date</th>\n",
       "      <th>ranknow</th>\n",
       "      <th>open</th>\n",
       "      <th>high</th>\n",
       "      <th>low</th>\n",
       "      <th>close</th>\n",
       "      <th>volume</th>\n",
       "      <th>market</th>\n",
       "      <th>close_ratio</th>\n",
       "      <th>spread</th>\n",
       "    </tr>\n",
       "  </thead>\n",
       "  <tbody>\n",
       "    <tr>\n",
       "      <th>0</th>\n",
       "      <td>bitcoin</td>\n",
       "      <td>BTC</td>\n",
       "      <td>Bitcoin</td>\n",
       "      <td>2013-04-28</td>\n",
       "      <td>1</td>\n",
       "      <td>135.30</td>\n",
       "      <td>135.98</td>\n",
       "      <td>132.10</td>\n",
       "      <td>134.21</td>\n",
       "      <td>0.0</td>\n",
       "      <td>1.488567e+09</td>\n",
       "      <td>0.5438</td>\n",
       "      <td>3.88</td>\n",
       "    </tr>\n",
       "    <tr>\n",
       "      <th>1</th>\n",
       "      <td>bitcoin</td>\n",
       "      <td>BTC</td>\n",
       "      <td>Bitcoin</td>\n",
       "      <td>2013-04-29</td>\n",
       "      <td>1</td>\n",
       "      <td>134.44</td>\n",
       "      <td>147.49</td>\n",
       "      <td>134.00</td>\n",
       "      <td>144.54</td>\n",
       "      <td>0.0</td>\n",
       "      <td>1.603769e+09</td>\n",
       "      <td>0.7813</td>\n",
       "      <td>13.49</td>\n",
       "    </tr>\n",
       "    <tr>\n",
       "      <th>2</th>\n",
       "      <td>bitcoin</td>\n",
       "      <td>BTC</td>\n",
       "      <td>Bitcoin</td>\n",
       "      <td>2013-04-30</td>\n",
       "      <td>1</td>\n",
       "      <td>144.00</td>\n",
       "      <td>146.93</td>\n",
       "      <td>134.05</td>\n",
       "      <td>139.00</td>\n",
       "      <td>0.0</td>\n",
       "      <td>1.542813e+09</td>\n",
       "      <td>0.3843</td>\n",
       "      <td>12.88</td>\n",
       "    </tr>\n",
       "    <tr>\n",
       "      <th>3</th>\n",
       "      <td>bitcoin</td>\n",
       "      <td>BTC</td>\n",
       "      <td>Bitcoin</td>\n",
       "      <td>2013-05-01</td>\n",
       "      <td>1</td>\n",
       "      <td>139.00</td>\n",
       "      <td>139.89</td>\n",
       "      <td>107.72</td>\n",
       "      <td>116.99</td>\n",
       "      <td>0.0</td>\n",
       "      <td>1.298955e+09</td>\n",
       "      <td>0.2882</td>\n",
       "      <td>32.17</td>\n",
       "    </tr>\n",
       "    <tr>\n",
       "      <th>4</th>\n",
       "      <td>bitcoin</td>\n",
       "      <td>BTC</td>\n",
       "      <td>Bitcoin</td>\n",
       "      <td>2013-05-02</td>\n",
       "      <td>1</td>\n",
       "      <td>116.38</td>\n",
       "      <td>125.60</td>\n",
       "      <td>92.28</td>\n",
       "      <td>105.21</td>\n",
       "      <td>0.0</td>\n",
       "      <td>1.168517e+09</td>\n",
       "      <td>0.3881</td>\n",
       "      <td>33.32</td>\n",
       "    </tr>\n",
       "  </tbody>\n",
       "</table>\n",
       "</div>"
      ],
      "text/plain": [
       "      slug symbol     name       date  ranknow    open    high     low  \\\n",
       "0  bitcoin    BTC  Bitcoin 2013-04-28        1  135.30  135.98  132.10   \n",
       "1  bitcoin    BTC  Bitcoin 2013-04-29        1  134.44  147.49  134.00   \n",
       "2  bitcoin    BTC  Bitcoin 2013-04-30        1  144.00  146.93  134.05   \n",
       "3  bitcoin    BTC  Bitcoin 2013-05-01        1  139.00  139.89  107.72   \n",
       "4  bitcoin    BTC  Bitcoin 2013-05-02        1  116.38  125.60   92.28   \n",
       "\n",
       "    close  volume        market  close_ratio  spread  \n",
       "0  134.21     0.0  1.488567e+09       0.5438    3.88  \n",
       "1  144.54     0.0  1.603769e+09       0.7813   13.49  \n",
       "2  139.00     0.0  1.542813e+09       0.3843   12.88  \n",
       "3  116.99     0.0  1.298955e+09       0.2882   32.17  \n",
       "4  105.21     0.0  1.168517e+09       0.3881   33.32  "
      ]
     },
     "execution_count": 111,
     "metadata": {},
     "output_type": "execute_result"
    }
   ],
   "source": [
    "crypto.head()"
   ]
  },
  {
   "cell_type": "code",
   "execution_count": 120,
   "metadata": {},
   "outputs": [
    {
     "data": {
      "text/plain": [
       "454.9961371318204"
      ]
     },
     "execution_count": 120,
     "metadata": {},
     "output_type": "execute_result"
    }
   ],
   "source": [
    "len(crypto)"
   ]
  },
  {
   "cell_type": "code",
   "execution_count": 27,
   "metadata": {},
   "outputs": [
    {
     "data": {
      "text/plain": [
       "0.8473920081413768"
      ]
     },
     "execution_count": 27,
     "metadata": {},
     "output_type": "execute_result"
    }
   ],
   "source": [
    "np.sum(crypto[crypto.date=='2018-11-01'].iloc[:10]['market'])/np.sum(crypto[crypto.date=='2018-11-01']['market'])"
   ]
  },
  {
   "cell_type": "code",
   "execution_count": 24,
   "metadata": {},
   "outputs": [
    {
     "data": {
      "text/plain": [
       "205516839931.0"
      ]
     },
     "execution_count": 24,
     "metadata": {},
     "output_type": "execute_result"
    }
   ],
   "source": [
    "np.sum(crypto[crypto.date=='2018-11-01']['market'])"
   ]
  },
  {
   "cell_type": "code",
   "execution_count": 35,
   "metadata": {},
   "outputs": [],
   "source": [
    "bitcoin = crypto[crypto.slug=='bitcoin']\n",
    "bitcoin"
   ]
  },
  {
   "cell_type": "code",
   "execution_count": 445,
   "metadata": {},
   "outputs": [
    {
     "data": {
      "text/html": [
       "<div>\n",
       "<style scoped>\n",
       "    .dataframe tbody tr th:only-of-type {\n",
       "        vertical-align: middle;\n",
       "    }\n",
       "\n",
       "    .dataframe tbody tr th {\n",
       "        vertical-align: top;\n",
       "    }\n",
       "\n",
       "    .dataframe thead th {\n",
       "        text-align: right;\n",
       "    }\n",
       "</style>\n",
       "<table border=\"1\" class=\"dataframe\">\n",
       "  <thead>\n",
       "    <tr style=\"text-align: right;\">\n",
       "      <th></th>\n",
       "      <th>slug</th>\n",
       "      <th>symbol</th>\n",
       "      <th>name</th>\n",
       "      <th>date</th>\n",
       "      <th>ranknow</th>\n",
       "      <th>open</th>\n",
       "      <th>high</th>\n",
       "      <th>low</th>\n",
       "      <th>close</th>\n",
       "      <th>volume</th>\n",
       "      <th>market</th>\n",
       "      <th>close_ratio</th>\n",
       "      <th>spread</th>\n",
       "    </tr>\n",
       "  </thead>\n",
       "  <tbody>\n",
       "    <tr>\n",
       "      <th>16025</th>\n",
       "      <td>nem</td>\n",
       "      <td>XEM</td>\n",
       "      <td>NEM</td>\n",
       "      <td>2015-04-01</td>\n",
       "      <td>15</td>\n",
       "      <td>0.000400</td>\n",
       "      <td>0.000458</td>\n",
       "      <td>0.000170</td>\n",
       "      <td>0.000242</td>\n",
       "      <td>65525.0</td>\n",
       "      <td>2180943.0</td>\n",
       "      <td>0.2500</td>\n",
       "      <td>0.00</td>\n",
       "    </tr>\n",
       "    <tr>\n",
       "      <th>16026</th>\n",
       "      <td>nem</td>\n",
       "      <td>XEM</td>\n",
       "      <td>NEM</td>\n",
       "      <td>2015-04-02</td>\n",
       "      <td>15</td>\n",
       "      <td>0.000242</td>\n",
       "      <td>0.000323</td>\n",
       "      <td>0.000227</td>\n",
       "      <td>0.000314</td>\n",
       "      <td>28549.0</td>\n",
       "      <td>2823534.0</td>\n",
       "      <td>0.9062</td>\n",
       "      <td>0.00</td>\n",
       "    </tr>\n",
       "    <tr>\n",
       "      <th>16027</th>\n",
       "      <td>nem</td>\n",
       "      <td>XEM</td>\n",
       "      <td>NEM</td>\n",
       "      <td>2015-04-03</td>\n",
       "      <td>15</td>\n",
       "      <td>0.000309</td>\n",
       "      <td>0.000330</td>\n",
       "      <td>0.000291</td>\n",
       "      <td>0.000310</td>\n",
       "      <td>20678.0</td>\n",
       "      <td>2792457.0</td>\n",
       "      <td>0.4872</td>\n",
       "      <td>0.00</td>\n",
       "    </tr>\n",
       "    <tr>\n",
       "      <th>16028</th>\n",
       "      <td>nem</td>\n",
       "      <td>XEM</td>\n",
       "      <td>NEM</td>\n",
       "      <td>2015-04-04</td>\n",
       "      <td>15</td>\n",
       "      <td>0.000310</td>\n",
       "      <td>0.000318</td>\n",
       "      <td>0.000251</td>\n",
       "      <td>0.000277</td>\n",
       "      <td>23550.0</td>\n",
       "      <td>2488770.0</td>\n",
       "      <td>0.3881</td>\n",
       "      <td>0.00</td>\n",
       "    </tr>\n",
       "    <tr>\n",
       "      <th>16029</th>\n",
       "      <td>nem</td>\n",
       "      <td>XEM</td>\n",
       "      <td>NEM</td>\n",
       "      <td>2015-04-05</td>\n",
       "      <td>15</td>\n",
       "      <td>0.000272</td>\n",
       "      <td>0.000283</td>\n",
       "      <td>0.000218</td>\n",
       "      <td>0.000232</td>\n",
       "      <td>26800.0</td>\n",
       "      <td>2087388.0</td>\n",
       "      <td>0.2154</td>\n",
       "      <td>0.00</td>\n",
       "    </tr>\n",
       "    <tr>\n",
       "      <th>16030</th>\n",
       "      <td>nem</td>\n",
       "      <td>XEM</td>\n",
       "      <td>NEM</td>\n",
       "      <td>2015-04-06</td>\n",
       "      <td>15</td>\n",
       "      <td>0.000232</td>\n",
       "      <td>0.000299</td>\n",
       "      <td>0.000229</td>\n",
       "      <td>0.000289</td>\n",
       "      <td>22512.0</td>\n",
       "      <td>2598354.0</td>\n",
       "      <td>0.8571</td>\n",
       "      <td>0.00</td>\n",
       "    </tr>\n",
       "    <tr>\n",
       "      <th>16031</th>\n",
       "      <td>nem</td>\n",
       "      <td>XEM</td>\n",
       "      <td>NEM</td>\n",
       "      <td>2015-04-07</td>\n",
       "      <td>15</td>\n",
       "      <td>0.000288</td>\n",
       "      <td>0.000288</td>\n",
       "      <td>0.000234</td>\n",
       "      <td>0.000241</td>\n",
       "      <td>14437.0</td>\n",
       "      <td>2164689.0</td>\n",
       "      <td>0.1296</td>\n",
       "      <td>0.00</td>\n",
       "    </tr>\n",
       "    <tr>\n",
       "      <th>16032</th>\n",
       "      <td>nem</td>\n",
       "      <td>XEM</td>\n",
       "      <td>NEM</td>\n",
       "      <td>2015-04-08</td>\n",
       "      <td>15</td>\n",
       "      <td>0.000245</td>\n",
       "      <td>0.000259</td>\n",
       "      <td>0.000223</td>\n",
       "      <td>0.000228</td>\n",
       "      <td>6933.0</td>\n",
       "      <td>2050830.0</td>\n",
       "      <td>0.1389</td>\n",
       "      <td>0.00</td>\n",
       "    </tr>\n",
       "    <tr>\n",
       "      <th>16033</th>\n",
       "      <td>nem</td>\n",
       "      <td>XEM</td>\n",
       "      <td>NEM</td>\n",
       "      <td>2015-04-09</td>\n",
       "      <td>15</td>\n",
       "      <td>0.000228</td>\n",
       "      <td>0.000239</td>\n",
       "      <td>0.000213</td>\n",
       "      <td>0.000224</td>\n",
       "      <td>10014.0</td>\n",
       "      <td>2017638.0</td>\n",
       "      <td>0.4231</td>\n",
       "      <td>0.00</td>\n",
       "    </tr>\n",
       "    <tr>\n",
       "      <th>16034</th>\n",
       "      <td>nem</td>\n",
       "      <td>XEM</td>\n",
       "      <td>NEM</td>\n",
       "      <td>2015-04-10</td>\n",
       "      <td>15</td>\n",
       "      <td>0.000224</td>\n",
       "      <td>0.000227</td>\n",
       "      <td>0.000167</td>\n",
       "      <td>0.000175</td>\n",
       "      <td>16846.0</td>\n",
       "      <td>1572237.0</td>\n",
       "      <td>0.1333</td>\n",
       "      <td>0.00</td>\n",
       "    </tr>\n",
       "    <tr>\n",
       "      <th>16035</th>\n",
       "      <td>nem</td>\n",
       "      <td>XEM</td>\n",
       "      <td>NEM</td>\n",
       "      <td>2015-04-11</td>\n",
       "      <td>15</td>\n",
       "      <td>0.000175</td>\n",
       "      <td>0.000192</td>\n",
       "      <td>0.000143</td>\n",
       "      <td>0.000163</td>\n",
       "      <td>22846.0</td>\n",
       "      <td>1470060.0</td>\n",
       "      <td>0.4082</td>\n",
       "      <td>0.00</td>\n",
       "    </tr>\n",
       "    <tr>\n",
       "      <th>16036</th>\n",
       "      <td>nem</td>\n",
       "      <td>XEM</td>\n",
       "      <td>NEM</td>\n",
       "      <td>2015-04-12</td>\n",
       "      <td>15</td>\n",
       "      <td>0.000163</td>\n",
       "      <td>0.000173</td>\n",
       "      <td>0.000144</td>\n",
       "      <td>0.000146</td>\n",
       "      <td>5569.0</td>\n",
       "      <td>1317735.0</td>\n",
       "      <td>0.0690</td>\n",
       "      <td>0.00</td>\n",
       "    </tr>\n",
       "    <tr>\n",
       "      <th>16037</th>\n",
       "      <td>nem</td>\n",
       "      <td>XEM</td>\n",
       "      <td>NEM</td>\n",
       "      <td>2015-04-13</td>\n",
       "      <td>15</td>\n",
       "      <td>0.000146</td>\n",
       "      <td>0.000155</td>\n",
       "      <td>0.000123</td>\n",
       "      <td>0.000139</td>\n",
       "      <td>11803.0</td>\n",
       "      <td>1253196.0</td>\n",
       "      <td>0.5000</td>\n",
       "      <td>0.00</td>\n",
       "    </tr>\n",
       "    <tr>\n",
       "      <th>16038</th>\n",
       "      <td>nem</td>\n",
       "      <td>XEM</td>\n",
       "      <td>NEM</td>\n",
       "      <td>2015-04-14</td>\n",
       "      <td>15</td>\n",
       "      <td>0.000139</td>\n",
       "      <td>0.000178</td>\n",
       "      <td>0.000137</td>\n",
       "      <td>0.000153</td>\n",
       "      <td>14654.0</td>\n",
       "      <td>1380699.0</td>\n",
       "      <td>0.3902</td>\n",
       "      <td>0.00</td>\n",
       "    </tr>\n",
       "    <tr>\n",
       "      <th>16039</th>\n",
       "      <td>nem</td>\n",
       "      <td>XEM</td>\n",
       "      <td>NEM</td>\n",
       "      <td>2015-04-15</td>\n",
       "      <td>15</td>\n",
       "      <td>0.000156</td>\n",
       "      <td>0.000172</td>\n",
       "      <td>0.000146</td>\n",
       "      <td>0.000155</td>\n",
       "      <td>8196.0</td>\n",
       "      <td>1390896.0</td>\n",
       "      <td>0.3462</td>\n",
       "      <td>0.00</td>\n",
       "    </tr>\n",
       "    <tr>\n",
       "      <th>16040</th>\n",
       "      <td>nem</td>\n",
       "      <td>XEM</td>\n",
       "      <td>NEM</td>\n",
       "      <td>2015-04-16</td>\n",
       "      <td>15</td>\n",
       "      <td>0.000155</td>\n",
       "      <td>0.000174</td>\n",
       "      <td>0.000155</td>\n",
       "      <td>0.000163</td>\n",
       "      <td>5317.0</td>\n",
       "      <td>1471320.0</td>\n",
       "      <td>0.4211</td>\n",
       "      <td>0.00</td>\n",
       "    </tr>\n",
       "    <tr>\n",
       "      <th>16041</th>\n",
       "      <td>nem</td>\n",
       "      <td>XEM</td>\n",
       "      <td>NEM</td>\n",
       "      <td>2015-04-17</td>\n",
       "      <td>15</td>\n",
       "      <td>0.000168</td>\n",
       "      <td>0.000172</td>\n",
       "      <td>0.000160</td>\n",
       "      <td>0.000167</td>\n",
       "      <td>4556.0</td>\n",
       "      <td>1503207.0</td>\n",
       "      <td>0.5833</td>\n",
       "      <td>0.00</td>\n",
       "    </tr>\n",
       "    <tr>\n",
       "      <th>16042</th>\n",
       "      <td>nem</td>\n",
       "      <td>XEM</td>\n",
       "      <td>NEM</td>\n",
       "      <td>2015-04-18</td>\n",
       "      <td>15</td>\n",
       "      <td>0.000167</td>\n",
       "      <td>0.000170</td>\n",
       "      <td>0.000141</td>\n",
       "      <td>0.000141</td>\n",
       "      <td>9117.0</td>\n",
       "      <td>1268361.0</td>\n",
       "      <td>0.0000</td>\n",
       "      <td>0.00</td>\n",
       "    </tr>\n",
       "    <tr>\n",
       "      <th>16043</th>\n",
       "      <td>nem</td>\n",
       "      <td>XEM</td>\n",
       "      <td>NEM</td>\n",
       "      <td>2015-04-19</td>\n",
       "      <td>15</td>\n",
       "      <td>0.000141</td>\n",
       "      <td>0.000160</td>\n",
       "      <td>0.000137</td>\n",
       "      <td>0.000147</td>\n",
       "      <td>7193.0</td>\n",
       "      <td>1324080.0</td>\n",
       "      <td>0.4348</td>\n",
       "      <td>0.00</td>\n",
       "    </tr>\n",
       "    <tr>\n",
       "      <th>16044</th>\n",
       "      <td>nem</td>\n",
       "      <td>XEM</td>\n",
       "      <td>NEM</td>\n",
       "      <td>2015-04-20</td>\n",
       "      <td>15</td>\n",
       "      <td>0.000147</td>\n",
       "      <td>0.000150</td>\n",
       "      <td>0.000128</td>\n",
       "      <td>0.000133</td>\n",
       "      <td>6681.0</td>\n",
       "      <td>1194210.0</td>\n",
       "      <td>0.2273</td>\n",
       "      <td>0.00</td>\n",
       "    </tr>\n",
       "    <tr>\n",
       "      <th>16045</th>\n",
       "      <td>nem</td>\n",
       "      <td>XEM</td>\n",
       "      <td>NEM</td>\n",
       "      <td>2015-04-21</td>\n",
       "      <td>15</td>\n",
       "      <td>0.000133</td>\n",
       "      <td>0.000148</td>\n",
       "      <td>0.000129</td>\n",
       "      <td>0.000137</td>\n",
       "      <td>3912.0</td>\n",
       "      <td>1231380.0</td>\n",
       "      <td>0.4211</td>\n",
       "      <td>0.00</td>\n",
       "    </tr>\n",
       "    <tr>\n",
       "      <th>16046</th>\n",
       "      <td>nem</td>\n",
       "      <td>XEM</td>\n",
       "      <td>NEM</td>\n",
       "      <td>2015-04-22</td>\n",
       "      <td>15</td>\n",
       "      <td>0.000137</td>\n",
       "      <td>0.000149</td>\n",
       "      <td>0.000129</td>\n",
       "      <td>0.000138</td>\n",
       "      <td>2353.0</td>\n",
       "      <td>1245240.0</td>\n",
       "      <td>0.4500</td>\n",
       "      <td>0.00</td>\n",
       "    </tr>\n",
       "    <tr>\n",
       "      <th>16047</th>\n",
       "      <td>nem</td>\n",
       "      <td>XEM</td>\n",
       "      <td>NEM</td>\n",
       "      <td>2015-04-23</td>\n",
       "      <td>15</td>\n",
       "      <td>0.000138</td>\n",
       "      <td>0.000147</td>\n",
       "      <td>0.000133</td>\n",
       "      <td>0.000137</td>\n",
       "      <td>2117.0</td>\n",
       "      <td>1236573.0</td>\n",
       "      <td>0.2857</td>\n",
       "      <td>0.00</td>\n",
       "    </tr>\n",
       "    <tr>\n",
       "      <th>16048</th>\n",
       "      <td>nem</td>\n",
       "      <td>XEM</td>\n",
       "      <td>NEM</td>\n",
       "      <td>2015-04-24</td>\n",
       "      <td>15</td>\n",
       "      <td>0.000137</td>\n",
       "      <td>0.000150</td>\n",
       "      <td>0.000132</td>\n",
       "      <td>0.000150</td>\n",
       "      <td>3058.0</td>\n",
       "      <td>1345545.0</td>\n",
       "      <td>1.0000</td>\n",
       "      <td>0.00</td>\n",
       "    </tr>\n",
       "    <tr>\n",
       "      <th>16049</th>\n",
       "      <td>nem</td>\n",
       "      <td>XEM</td>\n",
       "      <td>NEM</td>\n",
       "      <td>2015-04-25</td>\n",
       "      <td>15</td>\n",
       "      <td>0.000149</td>\n",
       "      <td>0.000150</td>\n",
       "      <td>0.000137</td>\n",
       "      <td>0.000140</td>\n",
       "      <td>2480.0</td>\n",
       "      <td>1263753.0</td>\n",
       "      <td>0.2308</td>\n",
       "      <td>0.00</td>\n",
       "    </tr>\n",
       "    <tr>\n",
       "      <th>16050</th>\n",
       "      <td>nem</td>\n",
       "      <td>XEM</td>\n",
       "      <td>NEM</td>\n",
       "      <td>2015-04-26</td>\n",
       "      <td>15</td>\n",
       "      <td>0.000140</td>\n",
       "      <td>0.000141</td>\n",
       "      <td>0.000127</td>\n",
       "      <td>0.000134</td>\n",
       "      <td>2074.0</td>\n",
       "      <td>1206045.0</td>\n",
       "      <td>0.5000</td>\n",
       "      <td>0.00</td>\n",
       "    </tr>\n",
       "    <tr>\n",
       "      <th>16051</th>\n",
       "      <td>nem</td>\n",
       "      <td>XEM</td>\n",
       "      <td>NEM</td>\n",
       "      <td>2015-04-27</td>\n",
       "      <td>15</td>\n",
       "      <td>0.000134</td>\n",
       "      <td>0.000168</td>\n",
       "      <td>0.000134</td>\n",
       "      <td>0.000163</td>\n",
       "      <td>6660.0</td>\n",
       "      <td>1464858.0</td>\n",
       "      <td>0.8529</td>\n",
       "      <td>0.00</td>\n",
       "    </tr>\n",
       "    <tr>\n",
       "      <th>16052</th>\n",
       "      <td>nem</td>\n",
       "      <td>XEM</td>\n",
       "      <td>NEM</td>\n",
       "      <td>2015-04-28</td>\n",
       "      <td>15</td>\n",
       "      <td>0.000160</td>\n",
       "      <td>0.000163</td>\n",
       "      <td>0.000146</td>\n",
       "      <td>0.000149</td>\n",
       "      <td>3358.0</td>\n",
       "      <td>1339155.0</td>\n",
       "      <td>0.1765</td>\n",
       "      <td>0.00</td>\n",
       "    </tr>\n",
       "    <tr>\n",
       "      <th>16053</th>\n",
       "      <td>nem</td>\n",
       "      <td>XEM</td>\n",
       "      <td>NEM</td>\n",
       "      <td>2015-04-29</td>\n",
       "      <td>15</td>\n",
       "      <td>0.000149</td>\n",
       "      <td>0.000152</td>\n",
       "      <td>0.000142</td>\n",
       "      <td>0.000147</td>\n",
       "      <td>2013.0</td>\n",
       "      <td>1324836.0</td>\n",
       "      <td>0.5000</td>\n",
       "      <td>0.00</td>\n",
       "    </tr>\n",
       "    <tr>\n",
       "      <th>16054</th>\n",
       "      <td>nem</td>\n",
       "      <td>XEM</td>\n",
       "      <td>NEM</td>\n",
       "      <td>2015-04-30</td>\n",
       "      <td>15</td>\n",
       "      <td>0.000147</td>\n",
       "      <td>0.000160</td>\n",
       "      <td>0.000147</td>\n",
       "      <td>0.000157</td>\n",
       "      <td>959.0</td>\n",
       "      <td>1414224.0</td>\n",
       "      <td>0.7692</td>\n",
       "      <td>0.00</td>\n",
       "    </tr>\n",
       "    <tr>\n",
       "      <th>...</th>\n",
       "      <td>...</td>\n",
       "      <td>...</td>\n",
       "      <td>...</td>\n",
       "      <td>...</td>\n",
       "      <td>...</td>\n",
       "      <td>...</td>\n",
       "      <td>...</td>\n",
       "      <td>...</td>\n",
       "      <td>...</td>\n",
       "      <td>...</td>\n",
       "      <td>...</td>\n",
       "      <td>...</td>\n",
       "      <td>...</td>\n",
       "    </tr>\n",
       "    <tr>\n",
       "      <th>17334</th>\n",
       "      <td>nem</td>\n",
       "      <td>XEM</td>\n",
       "      <td>NEM</td>\n",
       "      <td>2018-10-31</td>\n",
       "      <td>15</td>\n",
       "      <td>0.090269</td>\n",
       "      <td>0.090722</td>\n",
       "      <td>0.088772</td>\n",
       "      <td>0.090650</td>\n",
       "      <td>5823560.0</td>\n",
       "      <td>815849100.0</td>\n",
       "      <td>0.9631</td>\n",
       "      <td>0.00</td>\n",
       "    </tr>\n",
       "    <tr>\n",
       "      <th>17335</th>\n",
       "      <td>nem</td>\n",
       "      <td>XEM</td>\n",
       "      <td>NEM</td>\n",
       "      <td>2018-11-01</td>\n",
       "      <td>15</td>\n",
       "      <td>0.090679</td>\n",
       "      <td>0.092431</td>\n",
       "      <td>0.090218</td>\n",
       "      <td>0.091188</td>\n",
       "      <td>5694120.0</td>\n",
       "      <td>820688400.0</td>\n",
       "      <td>0.4383</td>\n",
       "      <td>0.00</td>\n",
       "    </tr>\n",
       "    <tr>\n",
       "      <th>17336</th>\n",
       "      <td>nem</td>\n",
       "      <td>XEM</td>\n",
       "      <td>NEM</td>\n",
       "      <td>2018-11-02</td>\n",
       "      <td>15</td>\n",
       "      <td>0.091150</td>\n",
       "      <td>0.094253</td>\n",
       "      <td>0.091017</td>\n",
       "      <td>0.093405</td>\n",
       "      <td>6452350.0</td>\n",
       "      <td>840643200.0</td>\n",
       "      <td>0.7379</td>\n",
       "      <td>0.00</td>\n",
       "    </tr>\n",
       "    <tr>\n",
       "      <th>17337</th>\n",
       "      <td>nem</td>\n",
       "      <td>XEM</td>\n",
       "      <td>NEM</td>\n",
       "      <td>2018-11-03</td>\n",
       "      <td>15</td>\n",
       "      <td>0.093378</td>\n",
       "      <td>0.093756</td>\n",
       "      <td>0.092398</td>\n",
       "      <td>0.093227</td>\n",
       "      <td>5212130.0</td>\n",
       "      <td>839046600.0</td>\n",
       "      <td>0.6105</td>\n",
       "      <td>0.00</td>\n",
       "    </tr>\n",
       "    <tr>\n",
       "      <th>17338</th>\n",
       "      <td>nem</td>\n",
       "      <td>XEM</td>\n",
       "      <td>NEM</td>\n",
       "      <td>2018-11-04</td>\n",
       "      <td>15</td>\n",
       "      <td>0.093164</td>\n",
       "      <td>0.094866</td>\n",
       "      <td>0.092162</td>\n",
       "      <td>0.094866</td>\n",
       "      <td>6239750.0</td>\n",
       "      <td>853795800.0</td>\n",
       "      <td>1.0000</td>\n",
       "      <td>0.00</td>\n",
       "    </tr>\n",
       "    <tr>\n",
       "      <th>17339</th>\n",
       "      <td>nem</td>\n",
       "      <td>XEM</td>\n",
       "      <td>NEM</td>\n",
       "      <td>2018-11-05</td>\n",
       "      <td>15</td>\n",
       "      <td>0.094746</td>\n",
       "      <td>0.095568</td>\n",
       "      <td>0.093486</td>\n",
       "      <td>0.093785</td>\n",
       "      <td>5466800.0</td>\n",
       "      <td>844064100.0</td>\n",
       "      <td>0.1436</td>\n",
       "      <td>0.00</td>\n",
       "    </tr>\n",
       "    <tr>\n",
       "      <th>17340</th>\n",
       "      <td>nem</td>\n",
       "      <td>XEM</td>\n",
       "      <td>NEM</td>\n",
       "      <td>2018-11-06</td>\n",
       "      <td>15</td>\n",
       "      <td>0.093860</td>\n",
       "      <td>0.097527</td>\n",
       "      <td>0.093080</td>\n",
       "      <td>0.097527</td>\n",
       "      <td>6086660.0</td>\n",
       "      <td>869958900.0</td>\n",
       "      <td>1.0000</td>\n",
       "      <td>0.00</td>\n",
       "    </tr>\n",
       "    <tr>\n",
       "      <th>17341</th>\n",
       "      <td>nem</td>\n",
       "      <td>XEM</td>\n",
       "      <td>NEM</td>\n",
       "      <td>2018-11-07</td>\n",
       "      <td>15</td>\n",
       "      <td>0.097583</td>\n",
       "      <td>0.099155</td>\n",
       "      <td>0.096229</td>\n",
       "      <td>0.096777</td>\n",
       "      <td>6175600.0</td>\n",
       "      <td>870992100.0</td>\n",
       "      <td>0.1873</td>\n",
       "      <td>0.00</td>\n",
       "    </tr>\n",
       "    <tr>\n",
       "      <th>17342</th>\n",
       "      <td>nem</td>\n",
       "      <td>XEM</td>\n",
       "      <td>NEM</td>\n",
       "      <td>2018-11-08</td>\n",
       "      <td>15</td>\n",
       "      <td>0.096694</td>\n",
       "      <td>0.097079</td>\n",
       "      <td>0.092802</td>\n",
       "      <td>0.092901</td>\n",
       "      <td>7216590.0</td>\n",
       "      <td>836107200.0</td>\n",
       "      <td>0.0231</td>\n",
       "      <td>0.00</td>\n",
       "    </tr>\n",
       "    <tr>\n",
       "      <th>17343</th>\n",
       "      <td>nem</td>\n",
       "      <td>XEM</td>\n",
       "      <td>NEM</td>\n",
       "      <td>2018-11-09</td>\n",
       "      <td>15</td>\n",
       "      <td>0.092849</td>\n",
       "      <td>0.093381</td>\n",
       "      <td>0.091934</td>\n",
       "      <td>0.091976</td>\n",
       "      <td>4507740.0</td>\n",
       "      <td>827786700.0</td>\n",
       "      <td>0.0290</td>\n",
       "      <td>0.00</td>\n",
       "    </tr>\n",
       "    <tr>\n",
       "      <th>17344</th>\n",
       "      <td>nem</td>\n",
       "      <td>XEM</td>\n",
       "      <td>NEM</td>\n",
       "      <td>2018-11-10</td>\n",
       "      <td>15</td>\n",
       "      <td>0.091925</td>\n",
       "      <td>0.094208</td>\n",
       "      <td>0.091782</td>\n",
       "      <td>0.093953</td>\n",
       "      <td>4670230.0</td>\n",
       "      <td>845573400.0</td>\n",
       "      <td>0.8949</td>\n",
       "      <td>0.00</td>\n",
       "    </tr>\n",
       "    <tr>\n",
       "      <th>17345</th>\n",
       "      <td>nem</td>\n",
       "      <td>XEM</td>\n",
       "      <td>NEM</td>\n",
       "      <td>2018-11-11</td>\n",
       "      <td>15</td>\n",
       "      <td>0.093923</td>\n",
       "      <td>0.094353</td>\n",
       "      <td>0.092181</td>\n",
       "      <td>0.093025</td>\n",
       "      <td>5025650.0</td>\n",
       "      <td>837228600.0</td>\n",
       "      <td>0.3886</td>\n",
       "      <td>0.00</td>\n",
       "    </tr>\n",
       "    <tr>\n",
       "      <th>17346</th>\n",
       "      <td>nem</td>\n",
       "      <td>XEM</td>\n",
       "      <td>NEM</td>\n",
       "      <td>2018-11-12</td>\n",
       "      <td>15</td>\n",
       "      <td>0.093301</td>\n",
       "      <td>0.114225</td>\n",
       "      <td>0.091994</td>\n",
       "      <td>0.110267</td>\n",
       "      <td>54388800.0</td>\n",
       "      <td>992403000.0</td>\n",
       "      <td>0.8220</td>\n",
       "      <td>0.02</td>\n",
       "    </tr>\n",
       "    <tr>\n",
       "      <th>17347</th>\n",
       "      <td>nem</td>\n",
       "      <td>XEM</td>\n",
       "      <td>NEM</td>\n",
       "      <td>2018-11-13</td>\n",
       "      <td>15</td>\n",
       "      <td>0.110124</td>\n",
       "      <td>0.121945</td>\n",
       "      <td>0.106953</td>\n",
       "      <td>0.107914</td>\n",
       "      <td>49941600.0</td>\n",
       "      <td>971226000.0</td>\n",
       "      <td>0.0641</td>\n",
       "      <td>0.01</td>\n",
       "    </tr>\n",
       "    <tr>\n",
       "      <th>17348</th>\n",
       "      <td>nem</td>\n",
       "      <td>XEM</td>\n",
       "      <td>NEM</td>\n",
       "      <td>2018-11-14</td>\n",
       "      <td>15</td>\n",
       "      <td>0.108024</td>\n",
       "      <td>0.108075</td>\n",
       "      <td>0.090089</td>\n",
       "      <td>0.096901</td>\n",
       "      <td>24596900.0</td>\n",
       "      <td>872106300.0</td>\n",
       "      <td>0.3787</td>\n",
       "      <td>0.02</td>\n",
       "    </tr>\n",
       "    <tr>\n",
       "      <th>17349</th>\n",
       "      <td>nem</td>\n",
       "      <td>XEM</td>\n",
       "      <td>NEM</td>\n",
       "      <td>2018-11-15</td>\n",
       "      <td>15</td>\n",
       "      <td>0.097452</td>\n",
       "      <td>0.099038</td>\n",
       "      <td>0.087062</td>\n",
       "      <td>0.094373</td>\n",
       "      <td>15942500.0</td>\n",
       "      <td>849361500.0</td>\n",
       "      <td>0.6105</td>\n",
       "      <td>0.01</td>\n",
       "    </tr>\n",
       "    <tr>\n",
       "      <th>17350</th>\n",
       "      <td>nem</td>\n",
       "      <td>XEM</td>\n",
       "      <td>NEM</td>\n",
       "      <td>2018-11-16</td>\n",
       "      <td>15</td>\n",
       "      <td>0.094553</td>\n",
       "      <td>0.096897</td>\n",
       "      <td>0.091483</td>\n",
       "      <td>0.094393</td>\n",
       "      <td>11352800.0</td>\n",
       "      <td>849532500.0</td>\n",
       "      <td>0.5375</td>\n",
       "      <td>0.01</td>\n",
       "    </tr>\n",
       "    <tr>\n",
       "      <th>17351</th>\n",
       "      <td>nem</td>\n",
       "      <td>XEM</td>\n",
       "      <td>NEM</td>\n",
       "      <td>2018-11-17</td>\n",
       "      <td>15</td>\n",
       "      <td>0.094812</td>\n",
       "      <td>0.095570</td>\n",
       "      <td>0.091811</td>\n",
       "      <td>0.092022</td>\n",
       "      <td>8335980.0</td>\n",
       "      <td>828194400.0</td>\n",
       "      <td>0.0561</td>\n",
       "      <td>0.00</td>\n",
       "    </tr>\n",
       "    <tr>\n",
       "      <th>17352</th>\n",
       "      <td>nem</td>\n",
       "      <td>XEM</td>\n",
       "      <td>NEM</td>\n",
       "      <td>2018-11-18</td>\n",
       "      <td>15</td>\n",
       "      <td>0.092176</td>\n",
       "      <td>0.094070</td>\n",
       "      <td>0.092164</td>\n",
       "      <td>0.093266</td>\n",
       "      <td>8278510.0</td>\n",
       "      <td>839390400.0</td>\n",
       "      <td>0.5782</td>\n",
       "      <td>0.00</td>\n",
       "    </tr>\n",
       "    <tr>\n",
       "      <th>17353</th>\n",
       "      <td>nem</td>\n",
       "      <td>XEM</td>\n",
       "      <td>NEM</td>\n",
       "      <td>2018-11-19</td>\n",
       "      <td>15</td>\n",
       "      <td>0.093274</td>\n",
       "      <td>0.093274</td>\n",
       "      <td>0.082606</td>\n",
       "      <td>0.083031</td>\n",
       "      <td>14219800.0</td>\n",
       "      <td>747283500.0</td>\n",
       "      <td>0.0398</td>\n",
       "      <td>0.01</td>\n",
       "    </tr>\n",
       "    <tr>\n",
       "      <th>17354</th>\n",
       "      <td>nem</td>\n",
       "      <td>XEM</td>\n",
       "      <td>NEM</td>\n",
       "      <td>2018-11-20</td>\n",
       "      <td>15</td>\n",
       "      <td>0.082686</td>\n",
       "      <td>0.086261</td>\n",
       "      <td>0.072199</td>\n",
       "      <td>0.076943</td>\n",
       "      <td>15514900.0</td>\n",
       "      <td>692488800.0</td>\n",
       "      <td>0.3374</td>\n",
       "      <td>0.01</td>\n",
       "    </tr>\n",
       "    <tr>\n",
       "      <th>17355</th>\n",
       "      <td>nem</td>\n",
       "      <td>XEM</td>\n",
       "      <td>NEM</td>\n",
       "      <td>2018-11-21</td>\n",
       "      <td>15</td>\n",
       "      <td>0.077497</td>\n",
       "      <td>0.083175</td>\n",
       "      <td>0.074708</td>\n",
       "      <td>0.082232</td>\n",
       "      <td>10536100.0</td>\n",
       "      <td>740090700.0</td>\n",
       "      <td>0.8886</td>\n",
       "      <td>0.01</td>\n",
       "    </tr>\n",
       "    <tr>\n",
       "      <th>17356</th>\n",
       "      <td>nem</td>\n",
       "      <td>XEM</td>\n",
       "      <td>NEM</td>\n",
       "      <td>2018-11-22</td>\n",
       "      <td>15</td>\n",
       "      <td>0.082202</td>\n",
       "      <td>0.086257</td>\n",
       "      <td>0.080825</td>\n",
       "      <td>0.080825</td>\n",
       "      <td>9877160.0</td>\n",
       "      <td>727424100.0</td>\n",
       "      <td>0.0000</td>\n",
       "      <td>0.01</td>\n",
       "    </tr>\n",
       "    <tr>\n",
       "      <th>17357</th>\n",
       "      <td>nem</td>\n",
       "      <td>XEM</td>\n",
       "      <td>NEM</td>\n",
       "      <td>2018-11-23</td>\n",
       "      <td>15</td>\n",
       "      <td>0.080481</td>\n",
       "      <td>0.081002</td>\n",
       "      <td>0.075090</td>\n",
       "      <td>0.077746</td>\n",
       "      <td>9620690.0</td>\n",
       "      <td>699714900.0</td>\n",
       "      <td>0.4493</td>\n",
       "      <td>0.01</td>\n",
       "    </tr>\n",
       "    <tr>\n",
       "      <th>17358</th>\n",
       "      <td>nem</td>\n",
       "      <td>XEM</td>\n",
       "      <td>NEM</td>\n",
       "      <td>2018-11-24</td>\n",
       "      <td>15</td>\n",
       "      <td>0.077683</td>\n",
       "      <td>0.079084</td>\n",
       "      <td>0.064700</td>\n",
       "      <td>0.068447</td>\n",
       "      <td>8682560.0</td>\n",
       "      <td>616025700.0</td>\n",
       "      <td>0.2605</td>\n",
       "      <td>0.01</td>\n",
       "    </tr>\n",
       "    <tr>\n",
       "      <th>17359</th>\n",
       "      <td>nem</td>\n",
       "      <td>XEM</td>\n",
       "      <td>NEM</td>\n",
       "      <td>2018-11-25</td>\n",
       "      <td>15</td>\n",
       "      <td>0.068536</td>\n",
       "      <td>0.071081</td>\n",
       "      <td>0.061285</td>\n",
       "      <td>0.069288</td>\n",
       "      <td>11720700.0</td>\n",
       "      <td>623595600.0</td>\n",
       "      <td>0.8170</td>\n",
       "      <td>0.01</td>\n",
       "    </tr>\n",
       "    <tr>\n",
       "      <th>17360</th>\n",
       "      <td>nem</td>\n",
       "      <td>XEM</td>\n",
       "      <td>NEM</td>\n",
       "      <td>2018-11-26</td>\n",
       "      <td>15</td>\n",
       "      <td>0.069212</td>\n",
       "      <td>0.072713</td>\n",
       "      <td>0.064474</td>\n",
       "      <td>0.068574</td>\n",
       "      <td>10389600.0</td>\n",
       "      <td>617170500.0</td>\n",
       "      <td>0.4976</td>\n",
       "      <td>0.01</td>\n",
       "    </tr>\n",
       "    <tr>\n",
       "      <th>17361</th>\n",
       "      <td>nem</td>\n",
       "      <td>XEM</td>\n",
       "      <td>NEM</td>\n",
       "      <td>2018-11-27</td>\n",
       "      <td>15</td>\n",
       "      <td>0.068119</td>\n",
       "      <td>0.076154</td>\n",
       "      <td>0.066944</td>\n",
       "      <td>0.075314</td>\n",
       "      <td>14762700.0</td>\n",
       "      <td>677827800.0</td>\n",
       "      <td>0.9088</td>\n",
       "      <td>0.01</td>\n",
       "    </tr>\n",
       "    <tr>\n",
       "      <th>17362</th>\n",
       "      <td>nem</td>\n",
       "      <td>XEM</td>\n",
       "      <td>NEM</td>\n",
       "      <td>2018-11-28</td>\n",
       "      <td>15</td>\n",
       "      <td>0.075207</td>\n",
       "      <td>0.083794</td>\n",
       "      <td>0.075170</td>\n",
       "      <td>0.081634</td>\n",
       "      <td>18838200.0</td>\n",
       "      <td>734706000.0</td>\n",
       "      <td>0.7495</td>\n",
       "      <td>0.01</td>\n",
       "    </tr>\n",
       "    <tr>\n",
       "      <th>17363</th>\n",
       "      <td>nem</td>\n",
       "      <td>XEM</td>\n",
       "      <td>NEM</td>\n",
       "      <td>2018-11-29</td>\n",
       "      <td>15</td>\n",
       "      <td>0.082026</td>\n",
       "      <td>0.082832</td>\n",
       "      <td>0.078041</td>\n",
       "      <td>0.079262</td>\n",
       "      <td>12073464.0</td>\n",
       "      <td>713361099.0</td>\n",
       "      <td>0.2549</td>\n",
       "      <td>0.00</td>\n",
       "    </tr>\n",
       "  </tbody>\n",
       "</table>\n",
       "<p>1339 rows × 13 columns</p>\n",
       "</div>"
      ],
      "text/plain": [
       "      slug symbol name       date  ranknow      open      high       low  \\\n",
       "16025  nem    XEM  NEM 2015-04-01       15  0.000400  0.000458  0.000170   \n",
       "16026  nem    XEM  NEM 2015-04-02       15  0.000242  0.000323  0.000227   \n",
       "16027  nem    XEM  NEM 2015-04-03       15  0.000309  0.000330  0.000291   \n",
       "16028  nem    XEM  NEM 2015-04-04       15  0.000310  0.000318  0.000251   \n",
       "16029  nem    XEM  NEM 2015-04-05       15  0.000272  0.000283  0.000218   \n",
       "16030  nem    XEM  NEM 2015-04-06       15  0.000232  0.000299  0.000229   \n",
       "16031  nem    XEM  NEM 2015-04-07       15  0.000288  0.000288  0.000234   \n",
       "16032  nem    XEM  NEM 2015-04-08       15  0.000245  0.000259  0.000223   \n",
       "16033  nem    XEM  NEM 2015-04-09       15  0.000228  0.000239  0.000213   \n",
       "16034  nem    XEM  NEM 2015-04-10       15  0.000224  0.000227  0.000167   \n",
       "16035  nem    XEM  NEM 2015-04-11       15  0.000175  0.000192  0.000143   \n",
       "16036  nem    XEM  NEM 2015-04-12       15  0.000163  0.000173  0.000144   \n",
       "16037  nem    XEM  NEM 2015-04-13       15  0.000146  0.000155  0.000123   \n",
       "16038  nem    XEM  NEM 2015-04-14       15  0.000139  0.000178  0.000137   \n",
       "16039  nem    XEM  NEM 2015-04-15       15  0.000156  0.000172  0.000146   \n",
       "16040  nem    XEM  NEM 2015-04-16       15  0.000155  0.000174  0.000155   \n",
       "16041  nem    XEM  NEM 2015-04-17       15  0.000168  0.000172  0.000160   \n",
       "16042  nem    XEM  NEM 2015-04-18       15  0.000167  0.000170  0.000141   \n",
       "16043  nem    XEM  NEM 2015-04-19       15  0.000141  0.000160  0.000137   \n",
       "16044  nem    XEM  NEM 2015-04-20       15  0.000147  0.000150  0.000128   \n",
       "16045  nem    XEM  NEM 2015-04-21       15  0.000133  0.000148  0.000129   \n",
       "16046  nem    XEM  NEM 2015-04-22       15  0.000137  0.000149  0.000129   \n",
       "16047  nem    XEM  NEM 2015-04-23       15  0.000138  0.000147  0.000133   \n",
       "16048  nem    XEM  NEM 2015-04-24       15  0.000137  0.000150  0.000132   \n",
       "16049  nem    XEM  NEM 2015-04-25       15  0.000149  0.000150  0.000137   \n",
       "16050  nem    XEM  NEM 2015-04-26       15  0.000140  0.000141  0.000127   \n",
       "16051  nem    XEM  NEM 2015-04-27       15  0.000134  0.000168  0.000134   \n",
       "16052  nem    XEM  NEM 2015-04-28       15  0.000160  0.000163  0.000146   \n",
       "16053  nem    XEM  NEM 2015-04-29       15  0.000149  0.000152  0.000142   \n",
       "16054  nem    XEM  NEM 2015-04-30       15  0.000147  0.000160  0.000147   \n",
       "...    ...    ...  ...        ...      ...       ...       ...       ...   \n",
       "17334  nem    XEM  NEM 2018-10-31       15  0.090269  0.090722  0.088772   \n",
       "17335  nem    XEM  NEM 2018-11-01       15  0.090679  0.092431  0.090218   \n",
       "17336  nem    XEM  NEM 2018-11-02       15  0.091150  0.094253  0.091017   \n",
       "17337  nem    XEM  NEM 2018-11-03       15  0.093378  0.093756  0.092398   \n",
       "17338  nem    XEM  NEM 2018-11-04       15  0.093164  0.094866  0.092162   \n",
       "17339  nem    XEM  NEM 2018-11-05       15  0.094746  0.095568  0.093486   \n",
       "17340  nem    XEM  NEM 2018-11-06       15  0.093860  0.097527  0.093080   \n",
       "17341  nem    XEM  NEM 2018-11-07       15  0.097583  0.099155  0.096229   \n",
       "17342  nem    XEM  NEM 2018-11-08       15  0.096694  0.097079  0.092802   \n",
       "17343  nem    XEM  NEM 2018-11-09       15  0.092849  0.093381  0.091934   \n",
       "17344  nem    XEM  NEM 2018-11-10       15  0.091925  0.094208  0.091782   \n",
       "17345  nem    XEM  NEM 2018-11-11       15  0.093923  0.094353  0.092181   \n",
       "17346  nem    XEM  NEM 2018-11-12       15  0.093301  0.114225  0.091994   \n",
       "17347  nem    XEM  NEM 2018-11-13       15  0.110124  0.121945  0.106953   \n",
       "17348  nem    XEM  NEM 2018-11-14       15  0.108024  0.108075  0.090089   \n",
       "17349  nem    XEM  NEM 2018-11-15       15  0.097452  0.099038  0.087062   \n",
       "17350  nem    XEM  NEM 2018-11-16       15  0.094553  0.096897  0.091483   \n",
       "17351  nem    XEM  NEM 2018-11-17       15  0.094812  0.095570  0.091811   \n",
       "17352  nem    XEM  NEM 2018-11-18       15  0.092176  0.094070  0.092164   \n",
       "17353  nem    XEM  NEM 2018-11-19       15  0.093274  0.093274  0.082606   \n",
       "17354  nem    XEM  NEM 2018-11-20       15  0.082686  0.086261  0.072199   \n",
       "17355  nem    XEM  NEM 2018-11-21       15  0.077497  0.083175  0.074708   \n",
       "17356  nem    XEM  NEM 2018-11-22       15  0.082202  0.086257  0.080825   \n",
       "17357  nem    XEM  NEM 2018-11-23       15  0.080481  0.081002  0.075090   \n",
       "17358  nem    XEM  NEM 2018-11-24       15  0.077683  0.079084  0.064700   \n",
       "17359  nem    XEM  NEM 2018-11-25       15  0.068536  0.071081  0.061285   \n",
       "17360  nem    XEM  NEM 2018-11-26       15  0.069212  0.072713  0.064474   \n",
       "17361  nem    XEM  NEM 2018-11-27       15  0.068119  0.076154  0.066944   \n",
       "17362  nem    XEM  NEM 2018-11-28       15  0.075207  0.083794  0.075170   \n",
       "17363  nem    XEM  NEM 2018-11-29       15  0.082026  0.082832  0.078041   \n",
       "\n",
       "          close      volume       market  close_ratio  spread  \n",
       "16025  0.000242     65525.0    2180943.0       0.2500    0.00  \n",
       "16026  0.000314     28549.0    2823534.0       0.9062    0.00  \n",
       "16027  0.000310     20678.0    2792457.0       0.4872    0.00  \n",
       "16028  0.000277     23550.0    2488770.0       0.3881    0.00  \n",
       "16029  0.000232     26800.0    2087388.0       0.2154    0.00  \n",
       "16030  0.000289     22512.0    2598354.0       0.8571    0.00  \n",
       "16031  0.000241     14437.0    2164689.0       0.1296    0.00  \n",
       "16032  0.000228      6933.0    2050830.0       0.1389    0.00  \n",
       "16033  0.000224     10014.0    2017638.0       0.4231    0.00  \n",
       "16034  0.000175     16846.0    1572237.0       0.1333    0.00  \n",
       "16035  0.000163     22846.0    1470060.0       0.4082    0.00  \n",
       "16036  0.000146      5569.0    1317735.0       0.0690    0.00  \n",
       "16037  0.000139     11803.0    1253196.0       0.5000    0.00  \n",
       "16038  0.000153     14654.0    1380699.0       0.3902    0.00  \n",
       "16039  0.000155      8196.0    1390896.0       0.3462    0.00  \n",
       "16040  0.000163      5317.0    1471320.0       0.4211    0.00  \n",
       "16041  0.000167      4556.0    1503207.0       0.5833    0.00  \n",
       "16042  0.000141      9117.0    1268361.0       0.0000    0.00  \n",
       "16043  0.000147      7193.0    1324080.0       0.4348    0.00  \n",
       "16044  0.000133      6681.0    1194210.0       0.2273    0.00  \n",
       "16045  0.000137      3912.0    1231380.0       0.4211    0.00  \n",
       "16046  0.000138      2353.0    1245240.0       0.4500    0.00  \n",
       "16047  0.000137      2117.0    1236573.0       0.2857    0.00  \n",
       "16048  0.000150      3058.0    1345545.0       1.0000    0.00  \n",
       "16049  0.000140      2480.0    1263753.0       0.2308    0.00  \n",
       "16050  0.000134      2074.0    1206045.0       0.5000    0.00  \n",
       "16051  0.000163      6660.0    1464858.0       0.8529    0.00  \n",
       "16052  0.000149      3358.0    1339155.0       0.1765    0.00  \n",
       "16053  0.000147      2013.0    1324836.0       0.5000    0.00  \n",
       "16054  0.000157       959.0    1414224.0       0.7692    0.00  \n",
       "...         ...         ...          ...          ...     ...  \n",
       "17334  0.090650   5823560.0  815849100.0       0.9631    0.00  \n",
       "17335  0.091188   5694120.0  820688400.0       0.4383    0.00  \n",
       "17336  0.093405   6452350.0  840643200.0       0.7379    0.00  \n",
       "17337  0.093227   5212130.0  839046600.0       0.6105    0.00  \n",
       "17338  0.094866   6239750.0  853795800.0       1.0000    0.00  \n",
       "17339  0.093785   5466800.0  844064100.0       0.1436    0.00  \n",
       "17340  0.097527   6086660.0  869958900.0       1.0000    0.00  \n",
       "17341  0.096777   6175600.0  870992100.0       0.1873    0.00  \n",
       "17342  0.092901   7216590.0  836107200.0       0.0231    0.00  \n",
       "17343  0.091976   4507740.0  827786700.0       0.0290    0.00  \n",
       "17344  0.093953   4670230.0  845573400.0       0.8949    0.00  \n",
       "17345  0.093025   5025650.0  837228600.0       0.3886    0.00  \n",
       "17346  0.110267  54388800.0  992403000.0       0.8220    0.02  \n",
       "17347  0.107914  49941600.0  971226000.0       0.0641    0.01  \n",
       "17348  0.096901  24596900.0  872106300.0       0.3787    0.02  \n",
       "17349  0.094373  15942500.0  849361500.0       0.6105    0.01  \n",
       "17350  0.094393  11352800.0  849532500.0       0.5375    0.01  \n",
       "17351  0.092022   8335980.0  828194400.0       0.0561    0.00  \n",
       "17352  0.093266   8278510.0  839390400.0       0.5782    0.00  \n",
       "17353  0.083031  14219800.0  747283500.0       0.0398    0.01  \n",
       "17354  0.076943  15514900.0  692488800.0       0.3374    0.01  \n",
       "17355  0.082232  10536100.0  740090700.0       0.8886    0.01  \n",
       "17356  0.080825   9877160.0  727424100.0       0.0000    0.01  \n",
       "17357  0.077746   9620690.0  699714900.0       0.4493    0.01  \n",
       "17358  0.068447   8682560.0  616025700.0       0.2605    0.01  \n",
       "17359  0.069288  11720700.0  623595600.0       0.8170    0.01  \n",
       "17360  0.068574  10389600.0  617170500.0       0.4976    0.01  \n",
       "17361  0.075314  14762700.0  677827800.0       0.9088    0.01  \n",
       "17362  0.081634  18838200.0  734706000.0       0.7495    0.01  \n",
       "17363  0.079262  12073464.0  713361099.0       0.2549    0.00  \n",
       "\n",
       "[1339 rows x 13 columns]"
      ]
     },
     "execution_count": 445,
     "metadata": {},
     "output_type": "execute_result"
    }
   ],
   "source": [
    "bitcoin = crypto[crypto.name=='NEM']\n",
    "bitcoin"
   ]
  },
  {
   "cell_type": "code",
   "execution_count": 38,
   "metadata": {},
   "outputs": [
    {
     "data": {
      "text/plain": [
       "[<matplotlib.lines.Line2D at 0x22cec87e908>]"
      ]
     },
     "execution_count": 38,
     "metadata": {},
     "output_type": "execute_result"
    },
    {
     "data": {
      "image/png": "[encoded data removed]",
      "text/plain": [
       "<Figure size 432x288 with 1 Axes>"
      ]
     },
     "metadata": {
      "needs_background": "light"
     },
     "output_type": "display_data"
    }
   ],
   "source": [
    "plt.plot(bitcoin.date.values, bitcoin.market.values)"
   ]
  },
  {
   "cell_type": "code",
   "execution_count": 106,
   "metadata": {},
   "outputs": [],
   "source": [
    "# crypto.groupby('slug')['close'].median().sort_values(ascending=False)"
   ]
  },
  {
   "cell_type": "code",
   "execution_count": 112,
   "metadata": {},
   "outputs": [],
   "source": [
    "min_dates = crypto.groupby('name')['date'].min()\n",
    "end_dates = crypto.groupby('name')['date'].max()"
   ]
  },
  {
   "cell_type": "markdown",
   "metadata": {},
   "source": [
    "## Important Stuff"
   ]
  },
  {
   "cell_type": "code",
   "execution_count": 439,
   "metadata": {},
   "outputs": [],
   "source": [
    "#only invest in coin once market cap is greater than 1 mil and volume greater than 1k\n",
    "def profit(data):\n",
    "    data = data.sort_values(by='date')\n",
    "    standard = ((data['market']>1e6) & (data['market']>1e3)).values\n",
    "    start_idx = np.argmax(standard==True)\n",
    "    start = data['close'].iloc[start_idx:start_idx+30].median()\n",
    "    end = data['close'].iloc[-30:].median()\n",
    "    profit = (end-start)/start*1000\n",
    "#     start = data['market'].iloc[:30].median()\n",
    "    end = data['market'].iloc[-30:].median()\n",
    "    market = end\n",
    "    volume = data['volume'].iloc[-30:].median()\n",
    "    return pd.DataFrame({'profit':[profit], 'market':[market], 'volume':[volume]},\n",
    "                       index=[data['name'].iloc[0]])"
   ]
  },
  {
   "cell_type": "code",
   "execution_count": 440,
   "metadata": {},
   "outputs": [],
   "source": [
    "profits = crypto.groupby('name').apply(\n",
    "    profit).reset_index().set_index('name').iloc[:, 1:]"
   ]
  },
  {
   "cell_type": "code",
   "execution_count": 463,
   "metadata": {},
   "outputs": [],
   "source": [
    "#assume coins with are market cap of less than 10k or a volume less than 1k are worthless coins\n",
    "dead_coins = (profits['market']<10000) | (profits['volume']<1000)\n",
    "profits.loc[dead_coins,['profit']] = -1000"
   ]
  },
  {
   "cell_type": "code",
   "execution_count": 471,
   "metadata": {},
   "outputs": [
    {
     "data": {
      "text/html": [
       "<div>\n",
       "<style scoped>\n",
       "    .dataframe tbody tr th:only-of-type {\n",
       "        vertical-align: middle;\n",
       "    }\n",
       "\n",
       "    .dataframe tbody tr th {\n",
       "        vertical-align: top;\n",
       "    }\n",
       "\n",
       "    .dataframe thead th {\n",
       "        text-align: right;\n",
       "    }\n",
       "</style>\n",
       "<table border=\"1\" class=\"dataframe\">\n",
       "  <thead>\n",
       "    <tr style=\"text-align: right;\">\n",
       "      <th></th>\n",
       "      <th>profit</th>\n",
       "      <th>market</th>\n",
       "      <th>volume</th>\n",
       "    </tr>\n",
       "    <tr>\n",
       "      <th>name</th>\n",
       "      <th></th>\n",
       "      <th></th>\n",
       "      <th></th>\n",
       "    </tr>\n",
       "  </thead>\n",
       "  <tbody>\n",
       "    <tr>\n",
       "      <th>PACcoin</th>\n",
       "      <td>1.549286e+06</td>\n",
       "      <td>6.809602e+06</td>\n",
       "      <td>1.830050e+04</td>\n",
       "    </tr>\n",
       "    <tr>\n",
       "      <th>NEM</th>\n",
       "      <td>5.917019e+05</td>\n",
       "      <td>8.321508e+08</td>\n",
       "      <td>9.151625e+06</td>\n",
       "    </tr>\n",
       "    <tr>\n",
       "      <th>Dash</th>\n",
       "      <td>1.584439e+05</td>\n",
       "      <td>1.191195e+09</td>\n",
       "      <td>1.713070e+08</td>\n",
       "    </tr>\n",
       "    <tr>\n",
       "      <th>Ethereum</th>\n",
       "      <td>1.421660e+05</td>\n",
       "      <td>1.869235e+10</td>\n",
       "      <td>1.821860e+09</td>\n",
       "    </tr>\n",
       "    <tr>\n",
       "      <th>Stellar</th>\n",
       "      <td>1.014303e+05</td>\n",
       "      <td>4.444215e+09</td>\n",
       "      <td>9.659710e+07</td>\n",
       "    </tr>\n",
       "  </tbody>\n",
       "</table>\n",
       "</div>"
      ],
      "text/plain": [
       "                profit        market        volume\n",
       "name                                              \n",
       "PACcoin   1.549286e+06  6.809602e+06  1.830050e+04\n",
       "NEM       5.917019e+05  8.321508e+08  9.151625e+06\n",
       "Dash      1.584439e+05  1.191195e+09  1.713070e+08\n",
       "Ethereum  1.421660e+05  1.869235e+10  1.821860e+09\n",
       "Stellar   1.014303e+05  4.444215e+09  9.659710e+07"
      ]
     },
     "execution_count": 471,
     "metadata": {},
     "output_type": "execute_result"
    }
   ],
   "source": [
    "profits = profits.sort_values('profit', ascending=False)\n",
    "profits.head()"
   ]
  },
  {
   "cell_type": "code",
   "execution_count": 469,
   "metadata": {},
   "outputs": [
    {
     "data": {
      "text/plain": [
       "profit   -1.949574e+02\n",
       "market    6.865579e+07\n",
       "volume    5.375128e+06\n",
       "dtype: float64"
      ]
     },
     "execution_count": 469,
     "metadata": {},
     "output_type": "execute_result"
    }
   ],
   "source": [
    "profits.iloc[10:].mean()"
   ]
  },
  {
   "cell_type": "code",
   "execution_count": 466,
   "metadata": {},
   "outputs": [
    {
     "data": {
      "text/plain": [
       "profit      -925.945434\n",
       "market    632148.000000\n",
       "volume      7611.000000\n",
       "dtype: float64"
      ]
     },
     "execution_count": 466,
     "metadata": {},
     "output_type": "execute_result"
    }
   ],
   "source": [
    "profits.median()"
   ]
  },
  {
   "cell_type": "code",
   "execution_count": 468,
   "metadata": {},
   "outputs": [
    {
     "data": {
      "text/plain": [
       "(array([1335.,  203.,  160.,  139.,   61.,   23.,   23.,   12.,    8.,\n",
       "           7.]),\n",
       " array([-1000.        ,  -744.38356164,  -488.76712329,  -233.15068493,\n",
       "           22.46575342,   278.08219178,   533.69863014,   789.31506849,\n",
       "         1044.93150685,  1300.54794521,  1556.16438356]),\n",
       " <a list of 10 Patch objects>)"
      ]
     },
     "execution_count": 468,
     "metadata": {},
     "output_type": "execute_result"
    },
    {
     "data": {
      "image/png": "[encoded data removed]",
      "text/plain": [
       "<Figure size 432x288 with 1 Axes>"
      ]
     },
     "metadata": {
      "needs_background": "light"
     },
     "output_type": "display_data"
    }
   ],
   "source": [
    "plt.hist(profits['profit'].iloc[100:].values)"
   ]
  },
  {
   "cell_type": "code",
   "execution_count": 470,
   "metadata": {},
   "outputs": [],
   "source": [
    "profits.to_json(path_or_buf='profits.json', orient='split')"
   ]
  },
  {
   "cell_type": "code",
   "execution_count": 566,
   "metadata": {},
   "outputs": [
    {
     "name": "stdout",
     "output_type": "stream",
     "text": [
      "0.12844036697247707\n",
      "0.09946885562530179\n",
      "0.05601158860453887\n",
      "0.017865765330758086\n",
      "0.8715596330275229\n",
      "0.4451955577015934\n"
     ]
    }
   ],
   "source": [
    "#coin value\n",
    "print(np.mean(profits['profit']>=0))\n",
    "print(np.mean(profits['profit']>100))\n",
    "print(np.mean(profits['profit']>1000))\n",
    "print(np.mean(profits['profit']>10000))\n",
    "print(np.mean(profits['profit']<0))\n",
    "print(np.mean(profits['profit']<-999))"
   ]
  },
  {
   "cell_type": "code",
   "execution_count": 563,
   "metadata": {},
   "outputs": [
    {
     "name": "stdout",
     "output_type": "stream",
     "text": [
      "256.88073394495416\n",
      "198.93771125060357\n",
      "112.02317720907774\n",
      "35.731530661516175\n",
      "1743.119266055046\n",
      "890.3911154031869\n"
     ]
    }
   ],
   "source": [
    "length = 2000\n",
    "print(np.mean(profits['profit']>=0)*length)\n",
    "print(np.mean(profits['profit']>100)*length)\n",
    "print(np.mean(profits['profit']>1000)*length)\n",
    "print(np.mean(profits['profit']>10000)*length)\n",
    "print(np.mean(profits['profit']<0)*length)\n",
    "print(np.mean(profits['profit']<-999)*length)"
   ]
  },
  {
   "cell_type": "code",
   "execution_count": 515,
   "metadata": {},
   "outputs": [
    {
     "data": {
      "text/html": [
       "<div>\n",
       "<style scoped>\n",
       "    .dataframe tbody tr th:only-of-type {\n",
       "        vertical-align: middle;\n",
       "    }\n",
       "\n",
       "    .dataframe tbody tr th {\n",
       "        vertical-align: top;\n",
       "    }\n",
       "\n",
       "    .dataframe thead th {\n",
       "        text-align: right;\n",
       "    }\n",
       "</style>\n",
       "<table border=\"1\" class=\"dataframe\">\n",
       "  <thead>\n",
       "    <tr style=\"text-align: right;\">\n",
       "      <th></th>\n",
       "      <th>Currency</th>\n",
       "      <th>Date</th>\n",
       "      <th>Open</th>\n",
       "      <th>High</th>\n",
       "      <th>Low</th>\n",
       "      <th>Close</th>\n",
       "      <th>Volume</th>\n",
       "      <th>Market Cap</th>\n",
       "    </tr>\n",
       "  </thead>\n",
       "  <tbody>\n",
       "    <tr>\n",
       "      <th>0</th>\n",
       "      <td>tezos</td>\n",
       "      <td>2019-12-04</td>\n",
       "      <td>1.29</td>\n",
       "      <td>1.32</td>\n",
       "      <td>1.25</td>\n",
       "      <td>1.25</td>\n",
       "      <td>46048752.0</td>\n",
       "      <td>824588509.0</td>\n",
       "    </tr>\n",
       "    <tr>\n",
       "      <th>1</th>\n",
       "      <td>tezos</td>\n",
       "      <td>2019-12-03</td>\n",
       "      <td>1.24</td>\n",
       "      <td>1.32</td>\n",
       "      <td>1.21</td>\n",
       "      <td>1.29</td>\n",
       "      <td>41462224.0</td>\n",
       "      <td>853213342.0</td>\n",
       "    </tr>\n",
       "    <tr>\n",
       "      <th>2</th>\n",
       "      <td>tezos</td>\n",
       "      <td>2019-12-02</td>\n",
       "      <td>1.25</td>\n",
       "      <td>1.26</td>\n",
       "      <td>1.20</td>\n",
       "      <td>1.24</td>\n",
       "      <td>27574097.0</td>\n",
       "      <td>817872179.0</td>\n",
       "    </tr>\n",
       "    <tr>\n",
       "      <th>3</th>\n",
       "      <td>tezos</td>\n",
       "      <td>2019-12-01</td>\n",
       "      <td>1.33</td>\n",
       "      <td>1.34</td>\n",
       "      <td>1.25</td>\n",
       "      <td>1.25</td>\n",
       "      <td>24127567.0</td>\n",
       "      <td>828296390.0</td>\n",
       "    </tr>\n",
       "    <tr>\n",
       "      <th>4</th>\n",
       "      <td>tezos</td>\n",
       "      <td>2019-11-30</td>\n",
       "      <td>1.31</td>\n",
       "      <td>1.37</td>\n",
       "      <td>1.31</td>\n",
       "      <td>1.33</td>\n",
       "      <td>28706667.0</td>\n",
       "      <td>879181680.0</td>\n",
       "    </tr>\n",
       "  </tbody>\n",
       "</table>\n",
       "</div>"
      ],
      "text/plain": [
       "  Currency       Date  Open  High   Low  Close      Volume   Market Cap\n",
       "0    tezos 2019-12-04  1.29  1.32  1.25   1.25  46048752.0  824588509.0\n",
       "1    tezos 2019-12-03  1.24  1.32  1.21   1.29  41462224.0  853213342.0\n",
       "2    tezos 2019-12-02  1.25  1.26  1.20   1.24  27574097.0  817872179.0\n",
       "3    tezos 2019-12-01  1.33  1.34  1.25   1.25  24127567.0  828296390.0\n",
       "4    tezos 2019-11-30  1.31  1.37  1.31   1.33  28706667.0  879181680.0"
      ]
     },
     "execution_count": 515,
     "metadata": {},
     "output_type": "execute_result"
    }
   ],
   "source": [
    "coin = pd.read_csv('consolidated_coin_data.csv')\n",
    "coin['Date'] = pd.to_datetime(coin['Date'])\n",
    "cols = ['Open', 'High', 'Low', 'Close', 'Volume', 'Market Cap']\n",
    "coin[cols] = coin[cols].applymap(lambda x: float(''.join(x.split(','))))\n",
    "coin.head()"
   ]
  },
  {
   "cell_type": "code",
   "execution_count": 516,
   "metadata": {},
   "outputs": [
    {
     "data": {
      "text/html": [
       "<div>\n",
       "<style scoped>\n",
       "    .dataframe tbody tr th:only-of-type {\n",
       "        vertical-align: middle;\n",
       "    }\n",
       "\n",
       "    .dataframe tbody tr th {\n",
       "        vertical-align: top;\n",
       "    }\n",
       "\n",
       "    .dataframe thead th {\n",
       "        text-align: right;\n",
       "    }\n",
       "</style>\n",
       "<table border=\"1\" class=\"dataframe\">\n",
       "  <thead>\n",
       "    <tr style=\"text-align: right;\">\n",
       "      <th></th>\n",
       "      <th>date</th>\n",
       "      <th>interest</th>\n",
       "    </tr>\n",
       "  </thead>\n",
       "  <tbody>\n",
       "    <tr>\n",
       "      <th>114</th>\n",
       "      <td>2013-05-01</td>\n",
       "      <td>3</td>\n",
       "    </tr>\n",
       "    <tr>\n",
       "      <th>115</th>\n",
       "      <td>2013-06-01</td>\n",
       "      <td>2</td>\n",
       "    </tr>\n",
       "    <tr>\n",
       "      <th>116</th>\n",
       "      <td>2013-07-01</td>\n",
       "      <td>2</td>\n",
       "    </tr>\n",
       "    <tr>\n",
       "      <th>117</th>\n",
       "      <td>2013-08-01</td>\n",
       "      <td>2</td>\n",
       "    </tr>\n",
       "    <tr>\n",
       "      <th>118</th>\n",
       "      <td>2013-09-01</td>\n",
       "      <td>2</td>\n",
       "    </tr>\n",
       "  </tbody>\n",
       "</table>\n",
       "</div>"
      ],
      "text/plain": [
       "          date  interest\n",
       "114 2013-05-01         3\n",
       "115 2013-06-01         2\n",
       "116 2013-07-01         2\n",
       "117 2013-08-01         2\n",
       "118 2013-09-01         2"
      ]
     },
     "execution_count": 516,
     "metadata": {},
     "output_type": "execute_result"
    }
   ],
   "source": [
    "interest = pd.read_csv('bitcoin_term_search.csv').iloc[2:]\n",
    "interest.columns = ['date', 'interest']\n",
    "interest['interest'] = interest['interest'].apply(lambda x: 1 if x=='<1' else int(x))\n",
    "interest['date'] = pd.to_datetime(interest['date'])\n",
    "interest = interest[interest['date'].dt.year>=2013].iloc[4:]\n",
    "interest.head()"
   ]
  },
  {
   "cell_type": "code",
   "execution_count": 517,
   "metadata": {},
   "outputs": [],
   "source": [
    "top_5 = ['bitcoin', 'ethereum', 'xrp', 'tether', 'bitcoin-cash']\n",
    "top = coin['Currency'].apply(lambda x: x in top_5)\n",
    "top_coin = coin[top]\n",
    "overall = top_coin.groupby('Date')['Market Cap'].sum()\n",
    "overall_vol = top_coin.groupby('Date')['Volume'].sum()"
   ]
  },
  {
   "cell_type": "code",
   "execution_count": 518,
   "metadata": {},
   "outputs": [
    {
     "data": {
      "text/plain": [
       "[<matplotlib.lines.Line2D at 0x22c8341beb8>]"
      ]
     },
     "execution_count": 518,
     "metadata": {},
     "output_type": "execute_result"
    },
    {
     "data": {
      "image/png": "[encoded data removed]",
      "text/plain": [
       "<Figure size 432x288 with 1 Axes>"
      ]
     },
     "metadata": {
      "needs_background": "light"
     },
     "output_type": "display_data"
    }
   ],
   "source": [
    "o = overall/max(overall)*100\n",
    "plt.plot(interest.date.values, interest.interest.values)\n",
    "plt.plot(o.index, o.values)"
   ]
  },
  {
   "cell_type": "code",
   "execution_count": 519,
   "metadata": {},
   "outputs": [
    {
     "data": {
      "text/html": [
       "<div>\n",
       "<style scoped>\n",
       "    .dataframe tbody tr th:only-of-type {\n",
       "        vertical-align: middle;\n",
       "    }\n",
       "\n",
       "    .dataframe tbody tr th {\n",
       "        vertical-align: top;\n",
       "    }\n",
       "\n",
       "    .dataframe thead th {\n",
       "        text-align: right;\n",
       "    }\n",
       "</style>\n",
       "<table border=\"1\" class=\"dataframe\">\n",
       "  <thead>\n",
       "    <tr style=\"text-align: right;\">\n",
       "      <th></th>\n",
       "      <th>date</th>\n",
       "      <th>interest</th>\n",
       "      <th>Market Cap</th>\n",
       "    </tr>\n",
       "  </thead>\n",
       "  <tbody>\n",
       "    <tr>\n",
       "      <th>114</th>\n",
       "      <td>2013-05-01</td>\n",
       "      <td>3</td>\n",
       "      <td>1.479685</td>\n",
       "    </tr>\n",
       "    <tr>\n",
       "      <th>115</th>\n",
       "      <td>2013-06-01</td>\n",
       "      <td>2</td>\n",
       "      <td>1.653928</td>\n",
       "    </tr>\n",
       "    <tr>\n",
       "      <th>116</th>\n",
       "      <td>2013-07-01</td>\n",
       "      <td>2</td>\n",
       "      <td>1.139209</td>\n",
       "    </tr>\n",
       "    <tr>\n",
       "      <th>117</th>\n",
       "      <td>2013-08-01</td>\n",
       "      <td>2</td>\n",
       "      <td>1.361523</td>\n",
       "    </tr>\n",
       "    <tr>\n",
       "      <th>118</th>\n",
       "      <td>2013-09-01</td>\n",
       "      <td>2</td>\n",
       "      <td>0.764622</td>\n",
       "    </tr>\n",
       "  </tbody>\n",
       "</table>\n",
       "</div>"
      ],
      "text/plain": [
       "          date  interest  Market Cap\n",
       "114 2013-05-01         3    1.479685\n",
       "115 2013-06-01         2    1.653928\n",
       "116 2013-07-01         2    1.139209\n",
       "117 2013-08-01         2    1.361523\n",
       "118 2013-09-01         2    0.764622"
      ]
     },
     "execution_count": 519,
     "metadata": {},
     "output_type": "execute_result"
    }
   ],
   "source": [
    "overall = pd.DataFrame(overall)\n",
    "int_mark = interest.merge(overall, left_on='date', right_index=True)\n",
    "int_mark['Market Cap'] = int_mark['Market Cap']/np.max(int_mark['Market Cap'])*100\n",
    "int_mark.head()"
   ]
  },
  {
   "cell_type": "code",
   "execution_count": 520,
   "metadata": {},
   "outputs": [
    {
     "data": {
      "text/plain": [
       "[<matplotlib.lines.Line2D at 0x22c842d6940>]"
      ]
     },
     "execution_count": 520,
     "metadata": {},
     "output_type": "execute_result"
    },
    {
     "data": {
      "image/png": "[encoded data removed]",
      "text/plain": [
       "<Figure size 432x288 with 1 Axes>"
      ]
     },
     "metadata": {
      "needs_background": "light"
     },
     "output_type": "display_data"
    }
   ],
   "source": [
    "plt.plot(int_mark.date.values, int_mark.interest.values)\n",
    "plt.plot(int_mark.date.values, int_mark['Market Cap'].values)"
   ]
  },
  {
   "cell_type": "code",
   "execution_count": 531,
   "metadata": {},
   "outputs": [],
   "source": [
    "#convert to unix\n",
    "int_mark['date'] = int_mark['date'].apply(lambda x: datetime.timestamp(x)*1000)"
   ]
  },
  {
   "cell_type": "code",
   "execution_count": 532,
   "metadata": {},
   "outputs": [
    {
     "data": {
      "text/html": [
       "<div>\n",
       "<style scoped>\n",
       "    .dataframe tbody tr th:only-of-type {\n",
       "        vertical-align: middle;\n",
       "    }\n",
       "\n",
       "    .dataframe tbody tr th {\n",
       "        vertical-align: top;\n",
       "    }\n",
       "\n",
       "    .dataframe thead th {\n",
       "        text-align: right;\n",
       "    }\n",
       "</style>\n",
       "<table border=\"1\" class=\"dataframe\">\n",
       "  <thead>\n",
       "    <tr style=\"text-align: right;\">\n",
       "      <th></th>\n",
       "      <th>date</th>\n",
       "      <th>interest</th>\n",
       "      <th>Market Cap</th>\n",
       "    </tr>\n",
       "  </thead>\n",
       "  <tbody>\n",
       "    <tr>\n",
       "      <th>114</th>\n",
       "      <td>1.367392e+12</td>\n",
       "      <td>3</td>\n",
       "      <td>1.479685</td>\n",
       "    </tr>\n",
       "    <tr>\n",
       "      <th>115</th>\n",
       "      <td>1.370070e+12</td>\n",
       "      <td>2</td>\n",
       "      <td>1.653928</td>\n",
       "    </tr>\n",
       "    <tr>\n",
       "      <th>116</th>\n",
       "      <td>1.372662e+12</td>\n",
       "      <td>2</td>\n",
       "      <td>1.139209</td>\n",
       "    </tr>\n",
       "    <tr>\n",
       "      <th>117</th>\n",
       "      <td>1.375340e+12</td>\n",
       "      <td>2</td>\n",
       "      <td>1.361523</td>\n",
       "    </tr>\n",
       "    <tr>\n",
       "      <th>118</th>\n",
       "      <td>1.378019e+12</td>\n",
       "      <td>2</td>\n",
       "      <td>0.764622</td>\n",
       "    </tr>\n",
       "  </tbody>\n",
       "</table>\n",
       "</div>"
      ],
      "text/plain": [
       "             date  interest  Market Cap\n",
       "114  1.367392e+12         3    1.479685\n",
       "115  1.370070e+12         2    1.653928\n",
       "116  1.372662e+12         2    1.139209\n",
       "117  1.375340e+12         2    1.361523\n",
       "118  1.378019e+12         2    0.764622"
      ]
     },
     "execution_count": 532,
     "metadata": {},
     "output_type": "execute_result"
    }
   ],
   "source": [
    "int_mark.head()"
   ]
  },
  {
   "cell_type": "code",
   "execution_count": 533,
   "metadata": {},
   "outputs": [],
   "source": [
    "int_mark.to_json(path_or_buf='interest.json', orient='split')"
   ]
  },
  {
   "cell_type": "code",
   "execution_count": 557,
   "metadata": {},
   "outputs": [],
   "source": [
    "start = pd.to_datetime('2017-01-01')\n",
    "def variance(data):\n",
    "    data = data[data['Date']>=start]\n",
    "    length= len(data)\n",
    "    var1 = []\n",
    "    var2 = []\n",
    "    for i in range(0, length-7, 7):\n",
    "        var1.append(abs((data['Close'].iloc[i+7]-data['Close'].iloc[i])/data['Close'].iloc[i]))\n",
    "    for i in range(0, length-30, 30):\n",
    "        var2.append(abs((data['Close'].iloc[i+30]-data['Close'].iloc[i])/data['Close'].iloc[i]))   \n",
    "    return pd.DataFrame({'weekly_var':np.round(np.mean(var1)*100, 2), 'monthly_var':np.round(np.mean(var2)*100, 2)}, index=[0])"
   ]
  },
  {
   "cell_type": "code",
   "execution_count": 558,
   "metadata": {},
   "outputs": [
    {
     "data": {
      "text/html": [
       "<div>\n",
       "<style scoped>\n",
       "    .dataframe tbody tr th:only-of-type {\n",
       "        vertical-align: middle;\n",
       "    }\n",
       "\n",
       "    .dataframe tbody tr th {\n",
       "        vertical-align: top;\n",
       "    }\n",
       "\n",
       "    .dataframe thead th {\n",
       "        text-align: right;\n",
       "    }\n",
       "</style>\n",
       "<table border=\"1\" class=\"dataframe\">\n",
       "  <thead>\n",
       "    <tr style=\"text-align: right;\">\n",
       "      <th></th>\n",
       "      <th>weekly_var</th>\n",
       "      <th>monthly_var</th>\n",
       "    </tr>\n",
       "    <tr>\n",
       "      <th>Currency</th>\n",
       "      <th></th>\n",
       "      <th></th>\n",
       "    </tr>\n",
       "  </thead>\n",
       "  <tbody>\n",
       "    <tr>\n",
       "      <th>bitcoin</th>\n",
       "      <td>8.66</td>\n",
       "      <td>20.94</td>\n",
       "    </tr>\n",
       "    <tr>\n",
       "      <th>bitcoin-cash</th>\n",
       "      <td>13.49</td>\n",
       "      <td>39.95</td>\n",
       "    </tr>\n",
       "    <tr>\n",
       "      <th>ethereum</th>\n",
       "      <td>11.71</td>\n",
       "      <td>35.66</td>\n",
       "    </tr>\n",
       "    <tr>\n",
       "      <th>tether</th>\n",
       "      <td>0.64</td>\n",
       "      <td>0.68</td>\n",
       "    </tr>\n",
       "    <tr>\n",
       "      <th>xrp</th>\n",
       "      <td>13.09</td>\n",
       "      <td>31.61</td>\n",
       "    </tr>\n",
       "  </tbody>\n",
       "</table>\n",
       "</div>"
      ],
      "text/plain": [
       "              weekly_var  monthly_var\n",
       "Currency                             \n",
       "bitcoin             8.66        20.94\n",
       "bitcoin-cash       13.49        39.95\n",
       "ethereum           11.71        35.66\n",
       "tether              0.64         0.68\n",
       "xrp                13.09        31.61"
      ]
     },
     "execution_count": 558,
     "metadata": {},
     "output_type": "execute_result"
    }
   ],
   "source": [
    "top_coin.groupby('Currency').apply(variance).reset_index().set_index('Currency').iloc[:, 1:]"
   ]
  },
  {
   "cell_type": "code",
   "execution_count": 567,
   "metadata": {},
   "outputs": [
    {
     "data": {
      "text/html": [
       "<div>\n",
       "<style scoped>\n",
       "    .dataframe tbody tr th:only-of-type {\n",
       "        vertical-align: middle;\n",
       "    }\n",
       "\n",
       "    .dataframe tbody tr th {\n",
       "        vertical-align: top;\n",
       "    }\n",
       "\n",
       "    .dataframe thead th {\n",
       "        text-align: right;\n",
       "    }\n",
       "</style>\n",
       "<table border=\"1\" class=\"dataframe\">\n",
       "  <thead>\n",
       "    <tr style=\"text-align: right;\">\n",
       "      <th></th>\n",
       "      <th>Currency</th>\n",
       "      <th>Date</th>\n",
       "      <th>Open</th>\n",
       "      <th>High</th>\n",
       "      <th>Low</th>\n",
       "      <th>Close</th>\n",
       "      <th>Volume</th>\n",
       "      <th>Market Cap</th>\n",
       "    </tr>\n",
       "  </thead>\n",
       "  <tbody>\n",
       "    <tr>\n",
       "      <th>7236</th>\n",
       "      <td>bitcoin</td>\n",
       "      <td>2019-12-04</td>\n",
       "      <td>7320.13</td>\n",
       "      <td>7539.78</td>\n",
       "      <td>7170.92</td>\n",
       "      <td>7252.03</td>\n",
       "      <td>2.166424e+10</td>\n",
       "      <td>1.311431e+11</td>\n",
       "    </tr>\n",
       "    <tr>\n",
       "      <th>7237</th>\n",
       "      <td>bitcoin</td>\n",
       "      <td>2019-12-03</td>\n",
       "      <td>7323.98</td>\n",
       "      <td>7418.86</td>\n",
       "      <td>7229.36</td>\n",
       "      <td>7320.15</td>\n",
       "      <td>1.479749e+10</td>\n",
       "      <td>1.323599e+11</td>\n",
       "    </tr>\n",
       "    <tr>\n",
       "      <th>7238</th>\n",
       "      <td>bitcoin</td>\n",
       "      <td>2019-12-02</td>\n",
       "      <td>7424.04</td>\n",
       "      <td>7474.82</td>\n",
       "      <td>7233.40</td>\n",
       "      <td>7321.99</td>\n",
       "      <td>1.708204e+10</td>\n",
       "      <td>1.323790e+11</td>\n",
       "    </tr>\n",
       "    <tr>\n",
       "      <th>7239</th>\n",
       "      <td>bitcoin</td>\n",
       "      <td>2019-12-01</td>\n",
       "      <td>7571.62</td>\n",
       "      <td>7571.62</td>\n",
       "      <td>7291.34</td>\n",
       "      <td>7424.29</td>\n",
       "      <td>1.872071e+10</td>\n",
       "      <td>1.342151e+11</td>\n",
       "    </tr>\n",
       "    <tr>\n",
       "      <th>7240</th>\n",
       "      <td>bitcoin</td>\n",
       "      <td>2019-11-30</td>\n",
       "      <td>7764.06</td>\n",
       "      <td>7836.10</td>\n",
       "      <td>7515.85</td>\n",
       "      <td>7569.63</td>\n",
       "      <td>1.715819e+10</td>\n",
       "      <td>1.368294e+11</td>\n",
       "    </tr>\n",
       "  </tbody>\n",
       "</table>\n",
       "</div>"
      ],
      "text/plain": [
       "     Currency       Date     Open     High      Low    Close        Volume  \\\n",
       "7236  bitcoin 2019-12-04  7320.13  7539.78  7170.92  7252.03  2.166424e+10   \n",
       "7237  bitcoin 2019-12-03  7323.98  7418.86  7229.36  7320.15  1.479749e+10   \n",
       "7238  bitcoin 2019-12-02  7424.04  7474.82  7233.40  7321.99  1.708204e+10   \n",
       "7239  bitcoin 2019-12-01  7571.62  7571.62  7291.34  7424.29  1.872071e+10   \n",
       "7240  bitcoin 2019-11-30  7764.06  7836.10  7515.85  7569.63  1.715819e+10   \n",
       "\n",
       "        Market Cap  \n",
       "7236  1.311431e+11  \n",
       "7237  1.323599e+11  \n",
       "7238  1.323790e+11  \n",
       "7239  1.342151e+11  \n",
       "7240  1.368294e+11  "
      ]
     },
     "execution_count": 567,
     "metadata": {},
     "output_type": "execute_result"
    }
   ],
   "source": [
    "top_coin.head()"
   ]
  },
  {
   "cell_type": "code",
   "execution_count": 687,
   "metadata": {},
   "outputs": [],
   "source": [
    "bitcoin = coin[coin.Currency=='bitcoin']\n",
    "bitcoin = bitcoin.sort_values('Date', ascending=True).iloc[-126:]"
   ]
  },
  {
   "cell_type": "code",
   "execution_count": 688,
   "metadata": {},
   "outputs": [
    {
     "data": {
      "text/plain": [
       "array([1.01139459, 1.02886053, 1.01371777, 1.07615828, 0.97226074,\n",
       "       1.04040714, 1.00204656, 0.9913533 , 0.95710001, 1.01493392,\n",
       "       0.98776769, 0.95723392, 0.92252724, 1.02585135, 1.00608929,\n",
       "       0.98625455, 1.01114864, 1.05511797, 0.98600043, 0.94191521,\n",
       "       0.99931052, 1.02733278, 0.97617115, 0.99788976, 1.02291261,\n",
       "       0.98213063, 0.95767709, 0.97496314, 1.00925007, 1.00338502,\n",
       "       1.01321924, 1.06033939, 1.0267504 , 0.99726551, 0.99821039,\n",
       "       0.9789864 , 1.01583553, 0.99277663, 0.9898183 , 0.97881078,\n",
       "       1.00616747, 1.02276985, 0.99523733, 0.9997587 , 0.99900174,\n",
       "       0.99314631, 0.99654367, 0.99579935, 1.0066835 , 0.99174298,\n",
       "       0.98409686, 1.00505703, 0.9661314 , 0.88604034, 0.9845045 ,\n",
       "       0.95663716, 1.01636661, 0.99928137, 0.98281211, 1.02340518,\n",
       "       1.00595741, 1.00596408, 0.98414758, 0.99345641, 0.99336578,\n",
       "       0.97996197, 1.0322302 , 0.9979577 , 1.0445947 , 0.99892156,\n",
       "       0.96917127, 1.00177847, 0.99813472, 1.00645114, 0.97978194,\n",
       "       0.98076382, 1.00700588, 0.98387198, 1.0019252 , 1.0292318 ,\n",
       "       1.00263194, 0.97992169, 0.93024065, 0.99718151, 1.1557632 ,\n",
       "       1.06746221, 1.03317912, 0.96905685, 1.01853254, 0.97645659,\n",
       "       0.99933194, 1.00668726, 1.00686959, 0.9904158 , 1.01919364,\n",
       "       0.99255467, 1.00196414, 0.99003085, 0.95007532, 1.00098809,\n",
       "       1.02745195, 0.96712064, 1.00660783, 0.99916058, 0.98862886,\n",
       "       0.97518288, 1.00692064, 1.00318334, 0.96867677, 0.98758739,\n",
       "       0.97820171, 0.95209828, 0.95470609, 1.01387225, 0.95270486,\n",
       "       1.01393461, 1.01010897, 1.04340177, 0.99089842, 1.03994715,\n",
       "       0.97531193, 0.98079959, 0.9862209 , 0.9997487 , 0.99069418])"
      ]
     },
     "execution_count": 688,
     "metadata": {},
     "output_type": "execute_result"
    }
   ],
   "source": [
    "changes = (bitcoin.Close.iloc[1:].values-bitcoin.Close.iloc[:-1].values )/bitcoin.Close.iloc[:-1].values +1\n",
    "changes"
   ]
  },
  {
   "cell_type": "code",
   "execution_count": 689,
   "metadata": {},
   "outputs": [],
   "source": [
    "dates = (bitcoin['Date'].apply(lambda x: datetime.timestamp(x)*1000)).iloc[:-1].values"
   ]
  },
  {
   "cell_type": "code",
   "execution_count": 690,
   "metadata": {},
   "outputs": [
    {
     "data": {
      "text/plain": [
       "(125, 125)"
      ]
     },
     "execution_count": 690,
     "metadata": {},
     "output_type": "execute_result"
    }
   ],
   "source": [
    "len(changes), len(dates)\n"
   ]
  },
  {
   "cell_type": "code",
   "execution_count": 691,
   "metadata": {},
   "outputs": [
    {
     "data": {
      "text/plain": [
       "6973.3270382617875"
      ]
     },
     "execution_count": 691,
     "metadata": {},
     "output_type": "execute_result"
    }
   ],
   "source": [
    "temp = 10000\n",
    "for change in changes:\n",
    "    temp *= change\n",
    "temp"
   ]
  },
  {
   "cell_type": "code",
   "execution_count": 692,
   "metadata": {},
   "outputs": [
    {
     "data": {
      "text/html": [
       "<div>\n",
       "<style scoped>\n",
       "    .dataframe tbody tr th:only-of-type {\n",
       "        vertical-align: middle;\n",
       "    }\n",
       "\n",
       "    .dataframe tbody tr th {\n",
       "        vertical-align: top;\n",
       "    }\n",
       "\n",
       "    .dataframe thead th {\n",
       "        text-align: right;\n",
       "    }\n",
       "</style>\n",
       "<table border=\"1\" class=\"dataframe\">\n",
       "  <thead>\n",
       "    <tr style=\"text-align: right;\">\n",
       "      <th></th>\n",
       "      <th>date</th>\n",
       "      <th>change</th>\n",
       "    </tr>\n",
       "  </thead>\n",
       "  <tbody>\n",
       "    <tr>\n",
       "      <th>0</th>\n",
       "      <td>1.564643e+12</td>\n",
       "      <td>1.011395</td>\n",
       "    </tr>\n",
       "    <tr>\n",
       "      <th>1</th>\n",
       "      <td>1.564729e+12</td>\n",
       "      <td>1.028861</td>\n",
       "    </tr>\n",
       "    <tr>\n",
       "      <th>2</th>\n",
       "      <td>1.564816e+12</td>\n",
       "      <td>1.013718</td>\n",
       "    </tr>\n",
       "    <tr>\n",
       "      <th>3</th>\n",
       "      <td>1.564902e+12</td>\n",
       "      <td>1.076158</td>\n",
       "    </tr>\n",
       "    <tr>\n",
       "      <th>4</th>\n",
       "      <td>1.564988e+12</td>\n",
       "      <td>0.972261</td>\n",
       "    </tr>\n",
       "    <tr>\n",
       "      <th>5</th>\n",
       "      <td>1.565075e+12</td>\n",
       "      <td>1.040407</td>\n",
       "    </tr>\n",
       "    <tr>\n",
       "      <th>6</th>\n",
       "      <td>1.565161e+12</td>\n",
       "      <td>1.002047</td>\n",
       "    </tr>\n",
       "    <tr>\n",
       "      <th>7</th>\n",
       "      <td>1.565248e+12</td>\n",
       "      <td>0.991353</td>\n",
       "    </tr>\n",
       "    <tr>\n",
       "      <th>8</th>\n",
       "      <td>1.565334e+12</td>\n",
       "      <td>0.957100</td>\n",
       "    </tr>\n",
       "    <tr>\n",
       "      <th>9</th>\n",
       "      <td>1.565420e+12</td>\n",
       "      <td>1.014934</td>\n",
       "    </tr>\n",
       "    <tr>\n",
       "      <th>10</th>\n",
       "      <td>1.565507e+12</td>\n",
       "      <td>0.987768</td>\n",
       "    </tr>\n",
       "    <tr>\n",
       "      <th>11</th>\n",
       "      <td>1.565593e+12</td>\n",
       "      <td>0.957234</td>\n",
       "    </tr>\n",
       "    <tr>\n",
       "      <th>12</th>\n",
       "      <td>1.565680e+12</td>\n",
       "      <td>0.922527</td>\n",
       "    </tr>\n",
       "    <tr>\n",
       "      <th>13</th>\n",
       "      <td>1.565766e+12</td>\n",
       "      <td>1.025851</td>\n",
       "    </tr>\n",
       "    <tr>\n",
       "      <th>14</th>\n",
       "      <td>1.565852e+12</td>\n",
       "      <td>1.006089</td>\n",
       "    </tr>\n",
       "    <tr>\n",
       "      <th>15</th>\n",
       "      <td>1.565939e+12</td>\n",
       "      <td>0.986255</td>\n",
       "    </tr>\n",
       "    <tr>\n",
       "      <th>16</th>\n",
       "      <td>1.566025e+12</td>\n",
       "      <td>1.011149</td>\n",
       "    </tr>\n",
       "    <tr>\n",
       "      <th>17</th>\n",
       "      <td>1.566112e+12</td>\n",
       "      <td>1.055118</td>\n",
       "    </tr>\n",
       "    <tr>\n",
       "      <th>18</th>\n",
       "      <td>1.566198e+12</td>\n",
       "      <td>0.986000</td>\n",
       "    </tr>\n",
       "    <tr>\n",
       "      <th>19</th>\n",
       "      <td>1.566284e+12</td>\n",
       "      <td>0.941915</td>\n",
       "    </tr>\n",
       "    <tr>\n",
       "      <th>20</th>\n",
       "      <td>1.566371e+12</td>\n",
       "      <td>0.999311</td>\n",
       "    </tr>\n",
       "    <tr>\n",
       "      <th>21</th>\n",
       "      <td>1.566457e+12</td>\n",
       "      <td>1.027333</td>\n",
       "    </tr>\n",
       "    <tr>\n",
       "      <th>22</th>\n",
       "      <td>1.566544e+12</td>\n",
       "      <td>0.976171</td>\n",
       "    </tr>\n",
       "    <tr>\n",
       "      <th>23</th>\n",
       "      <td>1.566630e+12</td>\n",
       "      <td>0.997890</td>\n",
       "    </tr>\n",
       "    <tr>\n",
       "      <th>24</th>\n",
       "      <td>1.566716e+12</td>\n",
       "      <td>1.022913</td>\n",
       "    </tr>\n",
       "    <tr>\n",
       "      <th>25</th>\n",
       "      <td>1.566803e+12</td>\n",
       "      <td>0.982131</td>\n",
       "    </tr>\n",
       "    <tr>\n",
       "      <th>26</th>\n",
       "      <td>1.566889e+12</td>\n",
       "      <td>0.957677</td>\n",
       "    </tr>\n",
       "    <tr>\n",
       "      <th>27</th>\n",
       "      <td>1.566976e+12</td>\n",
       "      <td>0.974963</td>\n",
       "    </tr>\n",
       "    <tr>\n",
       "      <th>28</th>\n",
       "      <td>1.567062e+12</td>\n",
       "      <td>1.009250</td>\n",
       "    </tr>\n",
       "    <tr>\n",
       "      <th>29</th>\n",
       "      <td>1.567148e+12</td>\n",
       "      <td>1.003385</td>\n",
       "    </tr>\n",
       "    <tr>\n",
       "      <th>...</th>\n",
       "      <td>...</td>\n",
       "      <td>...</td>\n",
       "    </tr>\n",
       "    <tr>\n",
       "      <th>95</th>\n",
       "      <td>1.572854e+12</td>\n",
       "      <td>0.992555</td>\n",
       "    </tr>\n",
       "    <tr>\n",
       "      <th>96</th>\n",
       "      <td>1.572941e+12</td>\n",
       "      <td>1.001964</td>\n",
       "    </tr>\n",
       "    <tr>\n",
       "      <th>97</th>\n",
       "      <td>1.573027e+12</td>\n",
       "      <td>0.990031</td>\n",
       "    </tr>\n",
       "    <tr>\n",
       "      <th>98</th>\n",
       "      <td>1.573114e+12</td>\n",
       "      <td>0.950075</td>\n",
       "    </tr>\n",
       "    <tr>\n",
       "      <th>99</th>\n",
       "      <td>1.573200e+12</td>\n",
       "      <td>1.000988</td>\n",
       "    </tr>\n",
       "    <tr>\n",
       "      <th>100</th>\n",
       "      <td>1.573286e+12</td>\n",
       "      <td>1.027452</td>\n",
       "    </tr>\n",
       "    <tr>\n",
       "      <th>101</th>\n",
       "      <td>1.573373e+12</td>\n",
       "      <td>0.967121</td>\n",
       "    </tr>\n",
       "    <tr>\n",
       "      <th>102</th>\n",
       "      <td>1.573459e+12</td>\n",
       "      <td>1.006608</td>\n",
       "    </tr>\n",
       "    <tr>\n",
       "      <th>103</th>\n",
       "      <td>1.573546e+12</td>\n",
       "      <td>0.999161</td>\n",
       "    </tr>\n",
       "    <tr>\n",
       "      <th>104</th>\n",
       "      <td>1.573632e+12</td>\n",
       "      <td>0.988629</td>\n",
       "    </tr>\n",
       "    <tr>\n",
       "      <th>105</th>\n",
       "      <td>1.573718e+12</td>\n",
       "      <td>0.975183</td>\n",
       "    </tr>\n",
       "    <tr>\n",
       "      <th>106</th>\n",
       "      <td>1.573805e+12</td>\n",
       "      <td>1.006921</td>\n",
       "    </tr>\n",
       "    <tr>\n",
       "      <th>107</th>\n",
       "      <td>1.573891e+12</td>\n",
       "      <td>1.003183</td>\n",
       "    </tr>\n",
       "    <tr>\n",
       "      <th>108</th>\n",
       "      <td>1.573978e+12</td>\n",
       "      <td>0.968677</td>\n",
       "    </tr>\n",
       "    <tr>\n",
       "      <th>109</th>\n",
       "      <td>1.574064e+12</td>\n",
       "      <td>0.987587</td>\n",
       "    </tr>\n",
       "    <tr>\n",
       "      <th>110</th>\n",
       "      <td>1.574150e+12</td>\n",
       "      <td>0.978202</td>\n",
       "    </tr>\n",
       "    <tr>\n",
       "      <th>111</th>\n",
       "      <td>1.574237e+12</td>\n",
       "      <td>0.952098</td>\n",
       "    </tr>\n",
       "    <tr>\n",
       "      <th>112</th>\n",
       "      <td>1.574323e+12</td>\n",
       "      <td>0.954706</td>\n",
       "    </tr>\n",
       "    <tr>\n",
       "      <th>113</th>\n",
       "      <td>1.574410e+12</td>\n",
       "      <td>1.013872</td>\n",
       "    </tr>\n",
       "    <tr>\n",
       "      <th>114</th>\n",
       "      <td>1.574496e+12</td>\n",
       "      <td>0.952705</td>\n",
       "    </tr>\n",
       "    <tr>\n",
       "      <th>115</th>\n",
       "      <td>1.574582e+12</td>\n",
       "      <td>1.013935</td>\n",
       "    </tr>\n",
       "    <tr>\n",
       "      <th>116</th>\n",
       "      <td>1.574669e+12</td>\n",
       "      <td>1.010109</td>\n",
       "    </tr>\n",
       "    <tr>\n",
       "      <th>117</th>\n",
       "      <td>1.574755e+12</td>\n",
       "      <td>1.043402</td>\n",
       "    </tr>\n",
       "    <tr>\n",
       "      <th>118</th>\n",
       "      <td>1.574842e+12</td>\n",
       "      <td>0.990898</td>\n",
       "    </tr>\n",
       "    <tr>\n",
       "      <th>119</th>\n",
       "      <td>1.574928e+12</td>\n",
       "      <td>1.039947</td>\n",
       "    </tr>\n",
       "    <tr>\n",
       "      <th>120</th>\n",
       "      <td>1.575014e+12</td>\n",
       "      <td>0.975312</td>\n",
       "    </tr>\n",
       "    <tr>\n",
       "      <th>121</th>\n",
       "      <td>1.575101e+12</td>\n",
       "      <td>0.980800</td>\n",
       "    </tr>\n",
       "    <tr>\n",
       "      <th>122</th>\n",
       "      <td>1.575187e+12</td>\n",
       "      <td>0.986221</td>\n",
       "    </tr>\n",
       "    <tr>\n",
       "      <th>123</th>\n",
       "      <td>1.575274e+12</td>\n",
       "      <td>0.999749</td>\n",
       "    </tr>\n",
       "    <tr>\n",
       "      <th>124</th>\n",
       "      <td>1.575360e+12</td>\n",
       "      <td>0.990694</td>\n",
       "    </tr>\n",
       "  </tbody>\n",
       "</table>\n",
       "<p>125 rows × 2 columns</p>\n",
       "</div>"
      ],
      "text/plain": [
       "             date    change\n",
       "0    1.564643e+12  1.011395\n",
       "1    1.564729e+12  1.028861\n",
       "2    1.564816e+12  1.013718\n",
       "3    1.564902e+12  1.076158\n",
       "4    1.564988e+12  0.972261\n",
       "5    1.565075e+12  1.040407\n",
       "6    1.565161e+12  1.002047\n",
       "7    1.565248e+12  0.991353\n",
       "8    1.565334e+12  0.957100\n",
       "9    1.565420e+12  1.014934\n",
       "10   1.565507e+12  0.987768\n",
       "11   1.565593e+12  0.957234\n",
       "12   1.565680e+12  0.922527\n",
       "13   1.565766e+12  1.025851\n",
       "14   1.565852e+12  1.006089\n",
       "15   1.565939e+12  0.986255\n",
       "16   1.566025e+12  1.011149\n",
       "17   1.566112e+12  1.055118\n",
       "18   1.566198e+12  0.986000\n",
       "19   1.566284e+12  0.941915\n",
       "20   1.566371e+12  0.999311\n",
       "21   1.566457e+12  1.027333\n",
       "22   1.566544e+12  0.976171\n",
       "23   1.566630e+12  0.997890\n",
       "24   1.566716e+12  1.022913\n",
       "25   1.566803e+12  0.982131\n",
       "26   1.566889e+12  0.957677\n",
       "27   1.566976e+12  0.974963\n",
       "28   1.567062e+12  1.009250\n",
       "29   1.567148e+12  1.003385\n",
       "..            ...       ...\n",
       "95   1.572854e+12  0.992555\n",
       "96   1.572941e+12  1.001964\n",
       "97   1.573027e+12  0.990031\n",
       "98   1.573114e+12  0.950075\n",
       "99   1.573200e+12  1.000988\n",
       "100  1.573286e+12  1.027452\n",
       "101  1.573373e+12  0.967121\n",
       "102  1.573459e+12  1.006608\n",
       "103  1.573546e+12  0.999161\n",
       "104  1.573632e+12  0.988629\n",
       "105  1.573718e+12  0.975183\n",
       "106  1.573805e+12  1.006921\n",
       "107  1.573891e+12  1.003183\n",
       "108  1.573978e+12  0.968677\n",
       "109  1.574064e+12  0.987587\n",
       "110  1.574150e+12  0.978202\n",
       "111  1.574237e+12  0.952098\n",
       "112  1.574323e+12  0.954706\n",
       "113  1.574410e+12  1.013872\n",
       "114  1.574496e+12  0.952705\n",
       "115  1.574582e+12  1.013935\n",
       "116  1.574669e+12  1.010109\n",
       "117  1.574755e+12  1.043402\n",
       "118  1.574842e+12  0.990898\n",
       "119  1.574928e+12  1.039947\n",
       "120  1.575014e+12  0.975312\n",
       "121  1.575101e+12  0.980800\n",
       "122  1.575187e+12  0.986221\n",
       "123  1.575274e+12  0.999749\n",
       "124  1.575360e+12  0.990694\n",
       "\n",
       "[125 rows x 2 columns]"
      ]
     },
     "execution_count": 692,
     "metadata": {},
     "output_type": "execute_result"
    }
   ],
   "source": [
    "bit = pd.DataFrame({'date': dates, 'change':changes})\n",
    "bit"
   ]
  },
  {
   "cell_type": "code",
   "execution_count": 693,
   "metadata": {},
   "outputs": [
    {
     "data": {
      "text/plain": [
       "[<matplotlib.lines.Line2D at 0x22c83e5bcf8>]"
      ]
     },
     "execution_count": 693,
     "metadata": {},
     "output_type": "execute_result"
    },
    {
     "data": {
      "image/png": "[encoded data removed]",
      "text/plain": [
       "<Figure size 432x288 with 1 Axes>"
      ]
     },
     "metadata": {
      "needs_background": "light"
     },
     "output_type": "display_data"
    }
   ],
   "source": [
    "plt.plot(bitcoin.Date.values, bitcoin.Close.values)"
   ]
  },
  {
   "cell_type": "code",
   "execution_count": 694,
   "metadata": {},
   "outputs": [],
   "source": [
    "bit.to_json(path_or_buf='bit_flux.json', orient='split')"
   ]
  },
  {
   "cell_type": "code",
   "execution_count": 234,
   "metadata": {},
   "outputs": [],
   "source": [
    "# sorted(crypto.groupby('slug')['close'].median().values, reverse=True)"
   ]
  },
  {
   "cell_type": "code",
   "execution_count": 37,
   "metadata": {},
   "outputs": [
    {
     "data": {
      "text/plain": [
       "2042"
      ]
     },
     "execution_count": 37,
     "metadata": {},
     "output_type": "execute_result"
    }
   ],
   "source": [
    "#how much you would have lost"
   ]
  },
  {
   "cell_type": "code",
   "execution_count": 58,
   "metadata": {},
   "outputs": [
    {
     "data": {
      "text/html": [
       "<div>\n",
       "<style scoped>\n",
       "    .dataframe tbody tr th:only-of-type {\n",
       "        vertical-align: middle;\n",
       "    }\n",
       "\n",
       "    .dataframe tbody tr th {\n",
       "        vertical-align: top;\n",
       "    }\n",
       "\n",
       "    .dataframe thead th {\n",
       "        text-align: right;\n",
       "    }\n",
       "</style>\n",
       "<table border=\"1\" class=\"dataframe\">\n",
       "  <thead>\n",
       "    <tr style=\"text-align: right;\">\n",
       "      <th></th>\n",
       "      <th>Currency</th>\n",
       "      <th>Date</th>\n",
       "      <th>Open</th>\n",
       "      <th>High</th>\n",
       "      <th>Low</th>\n",
       "      <th>Close</th>\n",
       "      <th>Volume</th>\n",
       "      <th>Market Cap</th>\n",
       "    </tr>\n",
       "  </thead>\n",
       "  <tbody>\n",
       "    <tr>\n",
       "      <th>0</th>\n",
       "      <td>tezos</td>\n",
       "      <td>2019-12-04</td>\n",
       "      <td>1.29</td>\n",
       "      <td>1.32</td>\n",
       "      <td>1.25</td>\n",
       "      <td>1.25</td>\n",
       "      <td>46048752.0</td>\n",
       "      <td>824588509.0</td>\n",
       "    </tr>\n",
       "    <tr>\n",
       "      <th>1</th>\n",
       "      <td>tezos</td>\n",
       "      <td>2019-12-03</td>\n",
       "      <td>1.24</td>\n",
       "      <td>1.32</td>\n",
       "      <td>1.21</td>\n",
       "      <td>1.29</td>\n",
       "      <td>41462224.0</td>\n",
       "      <td>853213342.0</td>\n",
       "    </tr>\n",
       "    <tr>\n",
       "      <th>2</th>\n",
       "      <td>tezos</td>\n",
       "      <td>2019-12-02</td>\n",
       "      <td>1.25</td>\n",
       "      <td>1.26</td>\n",
       "      <td>1.20</td>\n",
       "      <td>1.24</td>\n",
       "      <td>27574097.0</td>\n",
       "      <td>817872179.0</td>\n",
       "    </tr>\n",
       "    <tr>\n",
       "      <th>3</th>\n",
       "      <td>tezos</td>\n",
       "      <td>2019-12-01</td>\n",
       "      <td>1.33</td>\n",
       "      <td>1.34</td>\n",
       "      <td>1.25</td>\n",
       "      <td>1.25</td>\n",
       "      <td>24127567.0</td>\n",
       "      <td>828296390.0</td>\n",
       "    </tr>\n",
       "    <tr>\n",
       "      <th>4</th>\n",
       "      <td>tezos</td>\n",
       "      <td>2019-11-30</td>\n",
       "      <td>1.31</td>\n",
       "      <td>1.37</td>\n",
       "      <td>1.31</td>\n",
       "      <td>1.33</td>\n",
       "      <td>28706667.0</td>\n",
       "      <td>879181680.0</td>\n",
       "    </tr>\n",
       "  </tbody>\n",
       "</table>\n",
       "</div>"
      ],
      "text/plain": [
       "  Currency       Date  Open  High   Low  Close      Volume   Market Cap\n",
       "0    tezos 2019-12-04  1.29  1.32  1.25   1.25  46048752.0  824588509.0\n",
       "1    tezos 2019-12-03  1.24  1.32  1.21   1.29  41462224.0  853213342.0\n",
       "2    tezos 2019-12-02  1.25  1.26  1.20   1.24  27574097.0  817872179.0\n",
       "3    tezos 2019-12-01  1.33  1.34  1.25   1.25  24127567.0  828296390.0\n",
       "4    tezos 2019-11-30  1.31  1.37  1.31   1.33  28706667.0  879181680.0"
      ]
     },
     "execution_count": 58,
     "metadata": {},
     "output_type": "execute_result"
    }
   ],
   "source": [
    "coin.head()"
   ]
  },
  {
   "cell_type": "code",
   "execution_count": 230,
   "metadata": {},
   "outputs": [],
   "source": [
    "bitcoin = coin[coin.Currency=='bitcoin']"
   ]
  },
  {
   "cell_type": "code",
   "execution_count": 231,
   "metadata": {},
   "outputs": [
    {
     "data": {
      "text/plain": [
       "[<matplotlib.lines.Line2D at 0x22c850dfa90>]"
      ]
     },
     "execution_count": 231,
     "metadata": {},
     "output_type": "execute_result"
    },
    {
     "data": {
      "image/png": "[encoded data removed]",
      "text/plain": [
       "<Figure size 432x288 with 1 Axes>"
      ]
     },
     "metadata": {
      "needs_background": "light"
     },
     "output_type": "display_data"
    }
   ],
   "source": [
    "plt.plot(bitcoin.Date.values, bitcoin['Market Cap'].values)"
   ]
  },
  {
   "cell_type": "code",
   "execution_count": 54,
   "metadata": {},
   "outputs": [
    {
     "data": {
      "text/plain": [
       "array(['7,320.13', '7,323.98', '7,424.04', ..., '144.00', '134.44',\n",
       "       '135.30'], dtype=object)"
      ]
     },
     "execution_count": 54,
     "metadata": {},
     "output_type": "execute_result"
    }
   ],
   "source": [
    "bitcoin['Open'].values"
   ]
  },
  {
   "cell_type": "code",
   "execution_count": 64,
   "metadata": {},
   "outputs": [],
   "source": [
    "def disp_chart(col):\n",
    "    temp = coin[coin.Currency==col]\n",
    "    print(col)\n",
    "    plt.plot(temp.Date.values, temp['Market Cap'].values)"
   ]
  },
  {
   "cell_type": "code",
   "execution_count": 65,
   "metadata": {},
   "outputs": [
    {
     "name": "stdout",
     "output_type": "stream",
     "text": [
      "tezos\n"
     ]
    },
    {
     "data": {
      "image/png": "[encoded data removed]",
      "text/plain": [
       "<Figure size 432x288 with 1 Axes>"
      ]
     },
     "metadata": {
      "needs_background": "light"
     },
     "output_type": "display_data"
    },
    {
     "name": "stdout",
     "output_type": "stream",
     "text": [
      "binance-coin\n"
     ]
    },
    {
     "data": {
      "image/png": "[encoded data removed]",
      "text/plain": [
       "<Figure size 432x288 with 1 Axes>"
      ]
     },
     "metadata": {
      "needs_background": "light"
     },
     "output_type": "display_data"
    },
    {
     "name": "stdout",
     "output_type": "stream",
     "text": [
      "eos\n"
     ]
    },
    {
     "data": {
      "image/png": "[encoded data removed]",
      "text/plain": [
       "<Figure size 432x288 with 1 Axes>"
      ]
     },
     "metadata": {
      "needs_background": "light"
     },
     "output_type": "display_data"
    },
    {
     "name": "stdout",
     "output_type": "stream",
     "text": [
      "bitcoin\n"
     ]
    },
    {
     "data": {
      "image/png": "[encoded data removed]",
      "text/plain": [
       "<Figure size 432x288 with 1 Axes>"
      ]
     },
     "metadata": {
      "needs_background": "light"
     },
     "output_type": "display_data"
    },
    {
     "name": "stdout",
     "output_type": "stream",
     "text": [
      "tether\n"
     ]
    },
    {
     "data": {
      "image/png": "[encoded data removed]",
      "text/plain": [
       "<Figure size 432x288 with 1 Axes>"
      ]
     },
     "metadata": {
      "needs_background": "light"
     },
     "output_type": "display_data"
    },
    {
     "name": "stdout",
     "output_type": "stream",
     "text": [
      "xrp\n"
     ]
    },
    {
     "data": {
      "image/png": "[encoded data removed]",
      "text/plain": [
       "<Figure size 432x288 with 1 Axes>"
      ]
     },
     "metadata": {
      "needs_background": "light"
     },
     "output_type": "display_data"
    },
    {
     "name": "stdout",
     "output_type": "stream",
     "text": [
      "bitcoin-cash\n"
     ]
    },
    {
     "data": {
      "image/png": "[encoded data removed]",
      "text/plain": [
       "<Figure size 432x288 with 1 Axes>"
      ]
     },
     "metadata": {
      "needs_background": "light"
     },
     "output_type": "display_data"
    },
    {
     "name": "stdout",
     "output_type": "stream",
     "text": [
      "stellar\n"
     ]
    },
    {
     "data": {
      "image/png": "[encoded data removed]",
      "text/plain": [
       "<Figure size 432x288 with 1 Axes>"
      ]
     },
     "metadata": {
      "needs_background": "light"
     },
     "output_type": "display_data"
    },
    {
     "name": "stdout",
     "output_type": "stream",
     "text": [
      "litecoin\n"
     ]
    },
    {
     "data": {
      "image/png": "[encoded data removed]",
      "text/plain": [
       "<Figure size 432x288 with 1 Axes>"
      ]
     },
     "metadata": {
      "needs_background": "light"
     },
     "output_type": "display_data"
    },
    {
     "name": "stdout",
     "output_type": "stream",
     "text": [
      "ethereum\n"
     ]
    },
    {
     "data": {
      "image/png": "[encoded data removed]",
      "text/plain": [
       "<Figure size 432x288 with 1 Axes>"
      ]
     },
     "metadata": {
      "needs_background": "light"
     },
     "output_type": "display_data"
    },
    {
     "name": "stdout",
     "output_type": "stream",
     "text": [
      "cardano\n"
     ]
    },
    {
     "data": {
      "image/png": "[encoded data removed]",
      "text/plain": [
       "<Figure size 432x288 with 1 Axes>"
      ]
     },
     "metadata": {
      "needs_background": "light"
     },
     "output_type": "display_data"
    },
    {
     "name": "stdout",
     "output_type": "stream",
     "text": [
      "bitcoin-sv\n"
     ]
    },
    {
     "data": {
      "image/png": "[encoded data removed]",
      "text/plain": [
       "<Figure size 432x288 with 1 Axes>"
      ]
     },
     "metadata": {
      "needs_background": "light"
     },
     "output_type": "display_data"
    }
   ],
   "source": [
    "all_currs = list(pd.unique(coin['Currency']))\n",
    "for curr in all_currs:\n",
    "    disp_chart(curr)\n",
    "    plt.show()"
   ]
  },
  {
   "cell_type": "code",
   "execution_count": 75,
   "metadata": {},
   "outputs": [],
   "source": [
    "def disp_chart2(col):\n",
    "    temp = coin[coin.Currency==col]\n",
    "    print(col)\n",
    "    plt.plot(temp.Date.values, temp['Market Cap'].values)\n",
    "    plt.plot(temp.Date.values, temp['Volume'].values)"
   ]
  },
  {
   "cell_type": "code",
   "execution_count": 76,
   "metadata": {},
   "outputs": [
    {
     "name": "stdout",
     "output_type": "stream",
     "text": [
      "tezos\n"
     ]
    },
    {
     "data": {
      "image/png": "[encoded data removed]",
      "text/plain": [
       "<Figure size 432x288 with 1 Axes>"
      ]
     },
     "metadata": {
      "needs_background": "light"
     },
     "output_type": "display_data"
    },
    {
     "name": "stdout",
     "output_type": "stream",
     "text": [
      "binance-coin\n"
     ]
    },
    {
     "data": {
      "image/png": "[encoded data removed]",
      "text/plain": [
       "<Figure size 432x288 with 1 Axes>"
      ]
     },
     "metadata": {
      "needs_background": "light"
     },
     "output_type": "display_data"
    },
    {
     "name": "stdout",
     "output_type": "stream",
     "text": [
      "eos\n"
     ]
    },
    {
     "data": {
      "image/png": "[encoded data removed]",
      "text/plain": [
       "<Figure size 432x288 with 1 Axes>"
      ]
     },
     "metadata": {
      "needs_background": "light"
     },
     "output_type": "display_data"
    },
    {
     "name": "stdout",
     "output_type": "stream",
     "text": [
      "bitcoin\n"
     ]
    },
    {
     "data": {
      "image/png": "[encoded data removed]",
      "text/plain": [
       "<Figure size 432x288 with 1 Axes>"
      ]
     },
     "metadata": {
      "needs_background": "light"
     },
     "output_type": "display_data"
    },
    {
     "name": "stdout",
     "output_type": "stream",
     "text": [
      "tether\n"
     ]
    },
    {
     "data": {
      "image/png": "[encoded data removed]",
      "text/plain": [
       "<Figure size 432x288 with 1 Axes>"
      ]
     },
     "metadata": {
      "needs_background": "light"
     },
     "output_type": "display_data"
    },
    {
     "name": "stdout",
     "output_type": "stream",
     "text": [
      "xrp\n"
     ]
    },
    {
     "data": {
      "image/png": "[encoded data removed]",
      "text/plain": [
       "<Figure size 432x288 with 1 Axes>"
      ]
     },
     "metadata": {
      "needs_background": "light"
     },
     "output_type": "display_data"
    },
    {
     "name": "stdout",
     "output_type": "stream",
     "text": [
      "bitcoin-cash\n"
     ]
    },
    {
     "data": {
      "image/png": "[encoded data removed]",
      "text/plain": [
       "<Figure size 432x288 with 1 Axes>"
      ]
     },
     "metadata": {
      "needs_background": "light"
     },
     "output_type": "display_data"
    },
    {
     "name": "stdout",
     "output_type": "stream",
     "text": [
      "stellar\n"
     ]
    },
    {
     "data": {
      "image/png": "[encoded data removed]",
      "text/plain": [
       "<Figure size 432x288 with 1 Axes>"
      ]
     },
     "metadata": {
      "needs_background": "light"
     },
     "output_type": "display_data"
    },
    {
     "name": "stdout",
     "output_type": "stream",
     "text": [
      "litecoin\n"
     ]
    },
    {
     "data": {
      "image/png": "[encoded data removed]",
      "text/plain": [
       "<Figure size 432x288 with 1 Axes>"
      ]
     },
     "metadata": {
      "needs_background": "light"
     },
     "output_type": "display_data"
    },
    {
     "name": "stdout",
     "output_type": "stream",
     "text": [
      "ethereum\n"
     ]
    },
    {
     "data": {
      "image/png": "[encoded data removed]",
      "text/plain": [
       "<Figure size 432x288 with 1 Axes>"
      ]
     },
     "metadata": {
      "needs_background": "light"
     },
     "output_type": "display_data"
    },
    {
     "name": "stdout",
     "output_type": "stream",
     "text": [
      "cardano\n"
     ]
    },
    {
     "data": {
      "image/png": "[encoded data removed]",
      "text/plain": [
       "<Figure size 432x288 with 1 Axes>"
      ]
     },
     "metadata": {
      "needs_background": "light"
     },
     "output_type": "display_data"
    },
    {
     "name": "stdout",
     "output_type": "stream",
     "text": [
      "bitcoin-sv\n"
     ]
    },
    {
     "data": {
      "image/png": "[encoded data removed]",
      "text/plain": [
       "<Figure size 432x288 with 1 Axes>"
      ]
     },
     "metadata": {
      "needs_background": "light"
     },
     "output_type": "display_data"
    }
   ],
   "source": [
    "all_currs = list(pd.unique(coin['Currency']))\n",
    "for curr in all_currs:\n",
    "    disp_chart2(curr)\n",
    "    plt.show()"
   ]
  },
  {
   "cell_type": "code",
   "execution_count": 94,
   "metadata": {},
   "outputs": [],
   "source": [
    "overall = coin.groupby('Date')['Market Cap'].sum()\n",
    "overall_vol = coin.groupby('Date')['Volume'].sum()"
   ]
  },
  {
   "cell_type": "code",
   "execution_count": null,
   "metadata": {},
   "outputs": [],
   "source": [
    "#bad as a currency and as an investment"
   ]
  },
  {
   "cell_type": "code",
   "execution_count": 91,
   "metadata": {},
   "outputs": [
    {
     "data": {
      "text/html": [
       "<div>\n",
       "<style scoped>\n",
       "    .dataframe tbody tr th:only-of-type {\n",
       "        vertical-align: middle;\n",
       "    }\n",
       "\n",
       "    .dataframe tbody tr th {\n",
       "        vertical-align: top;\n",
       "    }\n",
       "\n",
       "    .dataframe thead th {\n",
       "        text-align: right;\n",
       "    }\n",
       "</style>\n",
       "<table border=\"1\" class=\"dataframe\">\n",
       "  <thead>\n",
       "    <tr style=\"text-align: right;\">\n",
       "      <th></th>\n",
       "      <th>date</th>\n",
       "      <th>interest</th>\n",
       "    </tr>\n",
       "  </thead>\n",
       "  <tbody>\n",
       "    <tr>\n",
       "      <th>110</th>\n",
       "      <td>2013-01-01</td>\n",
       "      <td>1</td>\n",
       "    </tr>\n",
       "    <tr>\n",
       "      <th>111</th>\n",
       "      <td>2013-02-01</td>\n",
       "      <td>1</td>\n",
       "    </tr>\n",
       "    <tr>\n",
       "      <th>112</th>\n",
       "      <td>2013-03-01</td>\n",
       "      <td>3</td>\n",
       "    </tr>\n",
       "    <tr>\n",
       "      <th>113</th>\n",
       "      <td>2013-04-01</td>\n",
       "      <td>8</td>\n",
       "    </tr>\n",
       "    <tr>\n",
       "      <th>114</th>\n",
       "      <td>2013-05-01</td>\n",
       "      <td>3</td>\n",
       "    </tr>\n",
       "  </tbody>\n",
       "</table>\n",
       "</div>"
      ],
      "text/plain": [
       "          date  interest\n",
       "110 2013-01-01         1\n",
       "111 2013-02-01         1\n",
       "112 2013-03-01         3\n",
       "113 2013-04-01         8\n",
       "114 2013-05-01         3"
      ]
     },
     "execution_count": 91,
     "metadata": {},
     "output_type": "execute_result"
    }
   ],
   "source": [
    "interest = pd.read_csv('bitcoin_term_search.csv').iloc[2:]\n",
    "interest.columns = ['date', 'interest']\n",
    "interest['interest'] = interest['interest'].apply(lambda x: 1 if x=='<1' else int(x))\n",
    "interest['date'] = pd.to_datetime(interest['date'])\n",
    "interest = interest[interest['date'].dt.year>=2013]\n",
    "interest.head()"
   ]
  },
  {
   "cell_type": "code",
   "execution_count": 233,
   "metadata": {},
   "outputs": [
    {
     "data": {
      "text/plain": [
       "[<matplotlib.lines.Line2D at 0x22cfd510ef0>]"
      ]
     },
     "execution_count": 233,
     "metadata": {},
     "output_type": "execute_result"
    },
    {
     "data": {
      "image/png": "[encoded data removed]",
      "text/plain": [
       "<Figure size 432x288 with 1 Axes>"
      ]
     },
     "metadata": {
      "needs_background": "light"
     },
     "output_type": "display_data"
    }
   ],
   "source": [
    "o = overall/max(overall)*100\n",
    "plt.plot(interest.date.values, interest.interest.values)\n",
    "plt.plot(o.index, o.values)"
   ]
  },
  {
   "cell_type": "code",
   "execution_count": 240,
   "metadata": {},
   "outputs": [],
   "source": []
  },
  {
   "cell_type": "code",
   "execution_count": 257,
   "metadata": {},
   "outputs": [],
   "source": [
    "def variance(data):\n",
    "    data = data[data['Date']>=start]\n",
    "    length= len(data)\n",
    "    var1 = []\n",
    "    var2 = []\n",
    "    for i in range(0, length-7, 7):\n",
    "        var1.append(abs((data['Close'].iloc[i+7]-data['Close'].iloc[i])/data['Close'].iloc[i]))\n",
    "    for i in range(0, length-30, 30):\n",
    "        var2.append(abs((data['Close'].iloc[i+30]-data['Close'].iloc[i])/data['Close'].iloc[i]))   \n",
    "    return [np.mean(var1), np.mean(var2)]"
   ]
  },
  {
   "cell_type": "code",
   "execution_count": 258,
   "metadata": {
    "scrolled": true
   },
   "outputs": [
    {
     "data": {
      "text/plain": [
       "Currency\n",
       "binance-coin       [0.32057883475633436, 1.1714017205670864]\n",
       "bitcoin            [0.0865584637551271, 0.20942636478447568]\n",
       "bitcoin-cash      [0.13488200416477572, 0.39948329358255297]\n",
       "bitcoin-sv          [0.3479723347842149, 1.1937707810060552]\n",
       "cardano           [0.15841789987113833, 0.42176857747987445]\n",
       "eos                 [0.2385808827226823, 1.2454828330265217]\n",
       "ethereum           [0.11706485764940512, 0.3565941467921815]\n",
       "litecoin          [0.12067681203429186, 0.27500420193277714]\n",
       "stellar           [0.15086254383113554, 0.37914342323436606]\n",
       "tether          [0.006382688298592909, 0.006805985223962106]\n",
       "tezos              [0.1536216732167687, 0.39700074356043535]\n",
       "xrp                [0.13085291320951598, 0.3161183457299722]\n",
       "dtype: object"
      ]
     },
     "execution_count": 258,
     "metadata": {},
     "output_type": "execute_result"
    }
   ],
   "source": [
    "coin.groupby('Currency').apply(variance)"
   ]
  },
  {
   "cell_type": "code",
   "execution_count": 395,
   "metadata": {},
   "outputs": [],
   "source": [
    "start2 = pd.to_datetime('2019-01-01')\n",
    "\n",
    "def heat(data):\n",
    "    var3 = []\n",
    "    data = data[data['Date']>start2]\n",
    "    length = len(data)\n",
    "    for i in range(0, length-30, 30):\n",
    "        var3.append(float(abs((data['Close'].iloc[i+30]-data['Close'].iloc[i])/data['Close'].iloc[i])))\n",
    "    return np.array(var3)"
   ]
  },
  {
   "cell_type": "code",
   "execution_count": 401,
   "metadata": {},
   "outputs": [],
   "source": [
    "a = coin.groupby('Currency').apply(heat).values\n",
    "output = [y for z in a for y in z]"
   ]
  },
  {
   "cell_type": "code",
   "execution_count": 405,
   "metadata": {},
   "outputs": [],
   "source": [
    "z = np.array(output).reshape(10,11)"
   ]
  },
  {
   "cell_type": "code",
   "execution_count": 406,
   "metadata": {},
   "outputs": [
    {
     "data": {
      "image/png": "[encoded data removed]",
      "text/plain": [
       "<Figure size 432x288 with 1 Axes>"
      ]
     },
     "metadata": {
      "needs_background": "light"
     },
     "output_type": "display_data"
    }
   ],
   "source": [
    "plt.imshow(z, cmap='hot', interpolation='nearest')\n",
    "plt.show()"
   ]
  },
  {
   "cell_type": "code",
   "execution_count": 408,
   "metadata": {},
   "outputs": [
    {
     "data": {
      "text/plain": [
       "Index(['Currency', 'Date', 'Open', 'High', 'Low', 'Close', 'Volume',\n",
       "       'Market Cap'],\n",
       "      dtype='object')"
      ]
     },
     "execution_count": 408,
     "metadata": {},
     "output_type": "execute_result"
    }
   ],
   "source": [
    "coin.columns"
   ]
  },
  {
   "cell_type": "code",
   "execution_count": 407,
   "metadata": {},
   "outputs": [
    {
     "data": {
      "text/plain": [
       "array([array([0.35732984, 0.24204436, 0.44783715, 0.21441125, 0.20260492,\n",
       "       0.04963899, 0.34314657, 0.12722892, 0.19547211, 0.46945779,\n",
       "       0.14100906]),\n",
       "       array([0.29792761, 0.1339809 , 0.29737226, 0.08535175, 0.00238017,\n",
       "       0.29752376, 0.25627832, 0.11578682, 0.25075948, 0.14226493,\n",
       "       0.18572895]),\n",
       "       array([0.39447656, 0.23532637, 0.31245239, 0.13888699, 0.23451646,\n",
       "       0.0252058 , 0.28679969, 0.08333915, 0.56854527, 0.13951577,\n",
       "       0.40607903]),\n",
       "       array([0.38704946, 0.37671854, 0.58199006, 0.12679078, 0.35674463,\n",
       "       0.02219995, 0.71031474, 0.40734473, 0.19708995, 0.06395088,\n",
       "       0.40128   ]),\n",
       "       array([0.15588825, 0.08108983, 0.1184747 , 0.20100367, 0.498323  ,\n",
       "       0.07307038, 0.24707774, 0.34676346, 0.46295211, 0.2211094 ,\n",
       "       0.33325091]),\n",
       "       array([0.30188679, 0.13333333, 0.09698997, 0.27743902, 0.42243437,\n",
       "       0.11744966, 0.26426426, 0.13265306, 0.32072072, 0.37665782,\n",
       "       0.19148936]),\n",
       "       array([0.26991482, 0.05371324, 0.01207825, 0.29732522, 0.35253517,\n",
       "       0.17916258, 0.31873431, 0.05446037, 0.23460557, 0.24229905,\n",
       "       0.43830113]),\n",
       "       array([0.36246957, 0.07682313, 0.15059817, 0.42308869, 0.29279037,\n",
       "       0.02451795, 0.36423277, 0.19927633, 0.35087719, 0.42812877,\n",
       "       0.1884407 ]),\n",
       "       array([0.37840813, 0.22700615, 0.02391234, 0.29359422, 0.34319542,\n",
       "       0.21406134, 0.26536357, 0.40875375, 0.32010061, 0.16776609,\n",
       "       0.64844419]),\n",
       "       array([0.00990099, 0.        , 0.        , 0.001789  , 0.00179221,\n",
       "       0.01      , 0.00990099, 0.01      , 0.        , 0.00990099,\n",
       "       0.02      ]),\n",
       "       array([0.2865584 , 0.02324843, 0.10680686, 0.45544554, 0.18367347,\n",
       "       0.1       , 0.11363636, 0.19945214, 0.55433405, 0.12832122,\n",
       "       0.33289636]),\n",
       "       array([0.38636364, 0.15496588, 0.01139838, 0.21447575, 0.2753416 ,\n",
       "       0.06569247, 0.28929407, 0.19125036, 0.12396367, 0.07076533,\n",
       "       0.2527176 ])], dtype=object)"
      ]
     },
     "execution_count": 407,
     "metadata": {},
     "output_type": "execute_result"
    }
   ],
   "source": [
    "a"
   ]
  },
  {
   "cell_type": "code",
   "execution_count": null,
   "metadata": {},
   "outputs": [],
   "source": []
  }
 ],
 "metadata": {
  "kernelspec": {
   "display_name": "Python 3",
   "language": "python",
   "name": "python3"
  },
  "language_info": {
   "codemirror_mode": {
    "name": "ipython",
    "version": 3
   },
   "file_extension": ".py",
   "mimetype": "text/x-python",
   "name": "python",
   "nbconvert_exporter": "python",
   "pygments_lexer": "ipython3",
   "version": "3.6.3"
  }
 },
 "nbformat": 4,
 "nbformat_minor": 2
}
